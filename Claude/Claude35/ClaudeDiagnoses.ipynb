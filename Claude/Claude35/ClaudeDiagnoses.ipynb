{
 "cells": [
  {
   "cell_type": "code",
   "execution_count": 2,
   "id": "7272f63a",
   "metadata": {},
   "outputs": [],
   "source": [
    "ANTHROPIC_API_KEY=''"
   ]
  },
  {
   "cell_type": "code",
   "execution_count": 14,
   "id": "2e1b6053",
   "metadata": {},
   "outputs": [],
   "source": [
    "import anthropic\n",
    "\n",
    "client = anthropic.Anthropic(api_key = ANTHROPIC_API_KEY)\n",
    "\n",
    "def get_response(text):\n",
    "    message = client.messages.create(\n",
    "        model=\"claude-3-5-sonnet-20240620\",\n",
    "        max_tokens=4096,\n",
    "        temperature=0,\n",
    "        system=\"You are an expert medical diagnostic engine.\",\n",
    "        messages=[\n",
    "            {\n",
    "                \"role\": \"user\",\n",
    "                \"content\": [\n",
    "                    {\n",
    "                        \"type\": \"text\",\n",
    "                        \"text\": text\n",
    "                    }\n",
    "                ]\n",
    "            }\n",
    "        ]\n",
    "    )\n",
    "    return message.content"
   ]
  },
  {
   "cell_type": "code",
   "execution_count": 15,
   "id": "d9b63f63",
   "metadata": {},
   "outputs": [
    {
     "data": {
      "text/plain": [
       "[TextBlock(text=\"Diagnosing sepsis involves a combination of clinical assessment, physical examination, and laboratory tests. Here's an overview of the diagnostic process:\\n\\n1. Clinical Assessment:\\n   - Evaluate patient history and risk factors\\n   - Look for signs of infection\\n   - Check for symptoms like fever, chills, rapid breathing, and confusion\\n\\n2. Physical Examination:\\n   - Measure vital signs (temperature, heart rate, respiratory rate, blood pressure)\\n   - Check for signs of organ dysfunction\\n\\n3. Laboratory Tests:\\n   - Complete Blood Count (CBC): Look for elevated white blood cell count\\n   - Blood cultures: To identify the causative organism\\n   - Lactate levels: Elevated lactate can indicate tissue hypoperfusion\\n   - Procalcitonin: Can be elevated in bacterial infections\\n   - C-reactive protein (CRP): Marker of inflammation\\n   - Organ function tests: Kidney function (creatinine), liver function tests, etc.\\n\\n4. Imaging Studies:\\n   - Chest X-ray, CT scans, or ultrasounds to locate the source of infection\\n\\n5. Use of Diagnostic Criteria:\\n   - SOFA (Sequential Organ Failure Assessment) score\\n   - qSOFA (quick SOFA) for rapid bedside assessment\\n   - SIRS (Systemic Inflammatory Response Syndrome) criteria (older method)\\n\\n6. Continuous Monitoring:\\n   - Regular reassessment of vital signs and organ function\\n\\n7. Differential Diagnosis:\\n   - Rule out other conditions that may present similarly\\n\\n8. Early Recognition Tools:\\n   - Many hospitals use early warning systems or sepsis screening tools\\n\\nIt's important to note that sepsis can progress rapidly, so early recognition and treatment are crucial. The diagnosis often involves a combination of these methods, and clinical judgment plays a significant role. If sepsis is suspected, treatment typically begins immediately, even before all test results are available.\", type='text')]"
      ]
     },
     "execution_count": 15,
     "metadata": {},
     "output_type": "execute_result"
    }
   ],
   "source": [
    "get_response('How do you diagnose sepsis?')"
   ]
  },
  {
   "cell_type": "code",
   "execution_count": 7,
   "id": "1213f380-54ff-4355-88be-5466e8097bcf",
   "metadata": {},
   "outputs": [],
   "source": [
    "import pandas as pd\n",
    "import numpy as np\n",
    "from tqdm import tqdm\n",
    "\n",
    "result_df = pd.read_csv('PaLM2input.csv', index_col=0)\n",
    "\n",
    "result_df['GPT_input'] = result_df['GPT_input'].str.replace('minimum', 'min')\n",
    "result_df['GPT_input'] = result_df['GPT_input'].str.replace('maximum', 'max')\n",
    "result_df['GPT_input'] = result_df['GPT_input'].str.replace('average', 'avg')\n",
    "result_df['GPT_input'] = result_df['GPT_input'].str.replace('maxntprobnp', 'max ntprobnp')\n",
    "\n",
    "result_df['GPT-Diagnoses'] = np.nan\n",
    "result_df['GPT-Eval'] = np.nan"
   ]
  },
  {
   "cell_type": "code",
   "execution_count": 17,
   "id": "d4739a17-e1f3-4580-b889-d28eefc30c77",
   "metadata": {},
   "outputs": [],
   "source": [
    "prompt_no_example = '''Suggest as many potential diagnoses as possible from patient data.\n",
    "In addition, include previously diagnosed conditions and information about patient's medical history (if any). \n",
    "Give exact numbers and/or text quotes from the data that made you think of each of the diagnoses \\\n",
    "and, if necessary, give further tests that could confirm the diagnosis. \n",
    "Once you're done, suggest further, more complex diseases that may be ongoing based on the existing diagnoses you already made. \n",
    "Use the International Classification of Disease (ICD) naming standard for reporting the diagnoses, but you don't have to specify the codes.\n",
    "Use the same spacing as punctuation in your answer as in the example below.\n",
    "\n",
    "Before finalizing your answer check if you haven't missed any abnormal data points and hence any diagnoses that could be made \\\n",
    "based on them. If you did, add them to your list of diagnoses.'''\n",
    "\n",
    "example = '''\n",
    "\n",
    "For example, if the patient data mentions:\n",
    "\n",
    "\"Blood report: \n",
    "min glucose: 103, max glucose: 278, avg glucose: 156.5, max inr: 2.1, max pt: 22.4, max ptt: 150, \\\n",
    "avg wbc: 13.8, max wbc: 14.1, max lactate: 5.9, max bun: 101, max creatinine: 5.8, avg bun: 38.15, avg creatinine: 2.78\n",
    "Blood gas report: \n",
    "3 hours after admission the blood gas results from venous blood are: ph: 7.2\n",
    "Imaging report: \n",
    "Status post left total shoulder replacement\n",
    "Chest X-Ray Possible small right pleural effusion and Mild, bibasilar atelectasis.. \\\n",
    "Lung volumes have slightly increased but areas of atelectasis are seen at both the left and the right lung bases\n",
    "Microbiology tests: \n",
    "24 hours after admission the microbiology culture test MRSA SCREEN obtained via MRSA SCREEN \\\n",
    "identified POSITIVE FOR METHICILLIN RESISTANT STAPH AUREUS\n",
    "Vitalsigns data from ICU: \n",
    "max temperature: 38, min peripheral oxygen saturation: 70, max respiration rate: 29\"\n",
    "\n",
    "then your answer may be: \n",
    "\n",
    "1: Methicillin resistant Staphylococcus aureus infection, site unspecified\n",
    "Foundational data: Microbiology culture test identifying \"POSITIVE FOR METHICILLIN RESISTANT STAPH AUREUS\"\n",
    "\n",
    "2: Atelectasis \n",
    "Foundational data from Chest X-Ray: \"Mild, bibasilar atelectasis.. \\\n",
    "Lung volumes have slightly increased but areas of atelectasis are seen at both the left and the right lung bases\"\n",
    "\n",
    "3: Pleural effusion, not elsewhere classified\n",
    "Foundational data from Chest X-Ray: \"Possible small right pleural effusion.\"\n",
    "Further tests: Thoracentesis, CT chest\n",
    "\n",
    "4: Acidosis\n",
    "Foundational data: \"ph: 7.2\"\n",
    "Further tests: Urine pH, Anion Gap\n",
    "\n",
    "5: Lactic acidosis\n",
    "Foundational data: \"max lactate: 5.9\"\n",
    "\n",
    "6: Acquired coagulation factor deficiency\n",
    "Foundational data: \"max inr: 2.1, max pt: 22.4, max ptt: 150\"\n",
    "Further tests: Antiphospholipid Antibodies (APL), Protein C, Protein S, Antithrombin III, Factor V Leiden, Fibrinogen test\n",
    "\n",
    "7: Hyperglycemia, unspecified\n",
    "Foundational data: \"max glucose: 278, avg glucose: 156.5\".\n",
    "Further tests: Hemoglobin A1c (HbA1c) test\n",
    "\n",
    "8: Hypoxemia\n",
    "Foundational data: \"min peripheral oxygen saturation: 70\"\n",
    "Further tests: Measure PaO2 in blood\n",
    "\n",
    "9: Leukocytosis\n",
    "Foundational data: \"max wbc: 14.1, avg wbc: 13.8\". The patient's white blood cell count is consistently elevated which may suggest an ongoing inflammatory response or infection.\n",
    "Further tests: Infection markers such as CRP or PCT, Assessment of symptoms like fever, inflammation or fatigue. \n",
    "\n",
    "10. Unspecified acute kidney failure:\n",
    "Foundational data: \"max bun: 101, max creatinine: 5.8, avg bun: 38.15, avg creatinine: 2.78\"\n",
    "Further tests: Urine output measurements for oliguria, ultrasound to rule out obstruction\n",
    "\n",
    "11. Presence of left artificial shoulder joint\n",
    "Foundational data: The imaging report mentions: \"Status post left total shoulder replacement\"\n",
    "\n",
    "Further diseases based on these diagnoses (continued the indexing from the previous number in the list):\n",
    "\n",
    "12: Unspecified septicemia\n",
    "Foundational data: positive MRSA screen, systemic inflammatory response: \"max respiration rate: 29\", \"max temperature: 38\", leukocytosis\n",
    "Further tests: HR, BP, wound culture, respiratory excretion tests\n",
    "\n",
    "13: Septic shock\n",
    "Foundational data: Septicemia with acidosis and lactic acidosis may suggest septic shock\n",
    "Further tests: patient examination (low BP, mental disorientation, nausea, pale skin may confirm the finding)\n",
    "\n",
    "14: Acute respiratory failure, with hypoxia or hypercapnia\n",
    "Foundational data: hypoxemia and the presence of atelectasis\n",
    "Further tests: Clinical symptoms (severe shortness of breath, rapid breathing, and confusion), \\\n",
    "arterial blood gas measurements showing hypoxia or hypercapnia\n",
    "\n",
    "15: Type 2 diabetes mellitus with diabetic chronic kidney disease\n",
    "Foundational data: Hyperglycemia and kidney failure\n",
    "Further tests: urine test, hemoglobin (A1C) test, GFR, BP, physical examination (swelling, nausea, weakness, eye disease)'''\n",
    "\n",
    "patient_data = '''\n",
    "\n",
    "Patient data:\\n'''"
   ]
  },
  {
   "cell_type": "code",
   "execution_count": 32,
   "id": "bdf619b6",
   "metadata": {},
   "outputs": [
    {
     "name": "stderr",
     "output_type": "stream",
     "text": [
      "100%|██████████████████████████████████████████████████████████████████████████████| 234/234 [1:01:27<00:00, 15.76s/it]\n"
     ]
    }
   ],
   "source": [
    "repeat = []\n",
    "todo = [161] + list(range(265,1000))\n",
    "for i in tqdm(range(766,1000)):\n",
    "    try:\n",
    "        response = get_response(\n",
    "            prompt_no_example + example + patient_data + str(result_df.iloc[i]['GPT_input']),\n",
    "        )\n",
    "        hadm_id = result_df.index[i]\n",
    "        result_df.loc[hadm_id, 'GPT-Diagnoses'] = response\n",
    "    except Exception as e: \n",
    "        print('Error happened at iteration i: ' + str(i))\n",
    "        repeat.append(i)\n",
    "        print(e)\n",
    "        \n"
   ]
  },
  {
   "cell_type": "code",
   "execution_count": 33,
   "id": "b752ced2-184f-4980-9259-75f8dde45953",
   "metadata": {},
   "outputs": [],
   "source": [
    "result_df.to_csv('Claude_result.csv')"
   ]
  },
  {
   "cell_type": "code",
   "execution_count": 21,
   "id": "06deb406-a19f-46e2-9619-2cc2afc2e93f",
   "metadata": {},
   "outputs": [
    {
     "data": {
      "text/plain": [
       "TextBlock(text='Based on the provided patient data, I can suggest the following potential diagnoses:\\n\\n1: Leukocytosis\\nFoundational data: \"min wbc: 11, max wbc: 19.5, avg wbc: 15.08\". The patient\\'s white blood cell count is consistently elevated.\\nFurther tests: Differential white blood cell count, CRP, PCT\\n\\n2: Hyperglycemia, unspecified\\nFoundational data: \"min glucose: 118, max glucose: 141, avg glucose: 128\"\\nFurther tests: Hemoglobin A1c (HbA1c) test\\n\\n3: Mild anemia, unspecified\\nFoundational data: \"min hemoglobin (g/dl): 11.4, min hematocrit: 33.3\"\\nFurther tests: Iron studies, vitamin B12, folate levels\\n\\n4: Thrombocytopenia, unspecified\\nFoundational data: \"min platelet: 127\"\\nFurther tests: Peripheral blood smear, bone marrow biopsy if persistent\\n\\n5: Atelectasis\\nFoundational data: \"There are minimal left atelectasis\", \"Bibasal areas of atelectasis are present\"\\nFurther tests: Chest CT scan\\n\\n6: Cardiomegaly\\nFoundational data: \"Heart size is enlarged, stable\"\\nFurther tests: Echocardiogram, cardiac MRI\\n\\n7: Pleural effusion, not elsewhere classified\\nFoundational data: \"Minimal amount of bilateral pleural effusion is noted\"\\nFurther tests: Chest ultrasound, thoracentesis if clinically indicated\\n\\n8: Presence of cardiac and vascular implants and grafts\\nFoundational data: \"s/p CABG\" (status post coronary artery bypass graft)\\n\\n9: Presence of other devices\\nFoundational data: \"Right IJ catheter tip is in the lower SVC\", \"Mediastinal and chest tubes are in place\", \"Sternal wires are aligned\"\\n\\n10: Tachycardia, unspecified\\nFoundational data: \"max heart rate: 114\"\\nFurther tests: ECG, Holter monitor\\n\\n11: Hypotension, unspecified\\nFoundational data: \"min systolic blood pressure: 73\"\\nFurther tests: Orthostatic blood pressure measurements, echocardiogram\\n\\n12: Mild respiratory alkalosis\\nFoundational data: \"ph: 7.44, pco2: 38\" (2 hours after admission)\\nFurther tests: Repeat arterial blood gas\\n\\n13: Mild respiratory acidosis\\nFoundational data: \"ph: 7.32, pco2: 50\" (6 hours after admission)\\nFurther tests: Repeat arterial blood gas, assess for respiratory fatigue\\n\\nFurther diseases based on these diagnoses:\\n\\n14: Postoperative atrial fibrillation\\nFoundational data: Post-CABG status, tachycardia\\nFurther tests: ECG, continuous cardiac monitoring\\n\\n15: Systemic inflammatory response syndrome (SIRS)\\nFoundational data: Leukocytosis, tachycardia, hyperglycemia\\nFurther tests: Blood cultures, procalcitonin\\n\\n16: Acute kidney injury, unspecified\\nFoundational data: Fluctuations in creatinine levels (0.9 to 1.2)\\nFurther tests: Urine output monitoring, kidney ultrasound\\n\\n17: Post-cardiac surgery syndrome\\nFoundational data: Post-CABG status, pleural effusion, atelectasis\\nFurther tests: Echocardiogram, chest CT\\n\\n18: Postprocedural respiratory failure\\nFoundational data: Post-CABG status, episodes of respiratory acidosis and alkalosis\\nFurther tests: Arterial blood gases, chest X-ray, pulmonary function tests', type='text')"
      ]
     },
     "execution_count": 21,
     "metadata": {},
     "output_type": "execute_result"
    }
   ],
   "source": [
    "result_df.iloc[0,:]['GPT-Diagnoses']"
   ]
  },
  {
   "cell_type": "code",
   "execution_count": null,
   "id": "c9770bde",
   "metadata": {},
   "outputs": [],
   "source": []
  }
 ],
 "metadata": {
  "kernelspec": {
   "display_name": "Python 3 (ipykernel)",
   "language": "python",
   "name": "python3"
  },
  "language_info": {
   "codemirror_mode": {
    "name": "ipython",
    "version": 3
   },
   "file_extension": ".py",
   "mimetype": "text/x-python",
   "name": "python",
   "nbconvert_exporter": "python",
   "pygments_lexer": "ipython3",
   "version": "3.7.16"
  }
 },
 "nbformat": 4,
 "nbformat_minor": 5
}
