{
  "nbformat": 4,
  "nbformat_minor": 0,
  "metadata": {
    "colab": {
      "provenance": [],
      "collapsed_sections": [
        "LQ41PXjuKPGE",
        "hKQ3pvrgKMmr",
        "nnH3HJzlMCx4",
        "znOGQeDoPE6_"
      ]
    },
    "kernelspec": {
      "name": "python3",
      "display_name": "Python 3"
    },
    "language_info": {
      "name": "python"
    }
  },
  "cells": [
    {
      "cell_type": "markdown",
      "source": [
        "## Function def"
      ],
      "metadata": {
        "id": "LQ41PXjuKPGE"
      }
    },
    {
      "cell_type": "code",
      "source": [
        "import numpy as np\n",
        "from statsmodels.stats.proportion import proportions_ztest\n",
        "\n",
        "def pooled_proportions(str1, str2):\n",
        "\n",
        "  x1 = float(str1.split('/')[0])\n",
        "  x2 = float(str2.split('/')[0])\n",
        "  n1 = float(str1.split('/')[1])\n",
        "  n2 = float(str2.split('/')[1])\n",
        "\n",
        "  # Perform two-proportion z-test with pooling\n",
        "  z_stat, p_value = proportions_ztest([x1, x2], [n1, n2])\n",
        "\n",
        "  # Print results\n",
        "  print(f\"Z-statistic: {z_stat}\")\n",
        "  print(f\"P-value: {p_value}\")\n",
        "\n",
        "  # Interpret the results\n",
        "  alpha = 0.05  # Significance level\n",
        "  if p_value < alpha:\n",
        "      print(\"The difference in proportions is statistically significant.\")\n",
        "  else:\n",
        "      print(\"The difference in proportions is not statistically significant.\")\n",
        "\n",
        "def pooled_proportions_larger(str1, str2):\n",
        "\n",
        "  x1 = float(str1.split('/')[0])\n",
        "  x2 = float(str2.split('/')[0])\n",
        "  n1 = float(str1.split('/')[1])\n",
        "  n2 = float(str2.split('/')[1])\n",
        "\n",
        "  # Perform two-proportion z-test with pooling\n",
        "  z_stat, p_value = proportions_ztest([x1, x2], [n1, n2], alternative='larger')\n",
        "\n",
        "  # Print results\n",
        "  print(f\"Z-statistic: {z_stat}\")\n",
        "  print(f\"P-value: {p_value}\")\n",
        "\n",
        "  # Interpret the results\n",
        "  alpha = 0.05  # Significance level\n",
        "  if p_value < alpha:\n",
        "      print(\"The difference in proportions is statistically significant.\")\n",
        "  else:\n",
        "      print(\"The difference in proportions is not statistically significant.\")"
      ],
      "metadata": {
        "id": "rOJX-XyqhKmo"
      },
      "execution_count": 3,
      "outputs": []
    },
    {
      "cell_type": "markdown",
      "source": [
        "## Table 4 (Prompts)"
      ],
      "metadata": {
        "id": "hKQ3pvrgKMmr"
      }
    },
    {
      "cell_type": "code",
      "source": [
        "str1 = '6340/6450'\n",
        "str2 = '6761/6790'\n",
        "pooled_proportions(str1, str2)"
      ],
      "metadata": {
        "colab": {
          "base_uri": "https://localhost:8080/"
        },
        "id": "xCBLaRgEJ2dk",
        "outputId": "71f7ee7a-94e4-4616-dd3d-c55067bebd4e"
      },
      "execution_count": null,
      "outputs": [
        {
          "output_type": "stream",
          "name": "stdout",
          "text": [
            "Z-statistic: -7.213421454189245\n",
            "P-value: 5.456320290333136e-13\n",
            "The difference in proportions is statistically significant.\n"
          ]
        }
      ]
    },
    {
      "cell_type": "code",
      "source": [
        "str1 = '6784/6840'\n",
        "str2 = '6862/6885'\n",
        "pooled_proportions(str1, str2)"
      ],
      "metadata": {
        "colab": {
          "base_uri": "https://localhost:8080/"
        },
        "id": "poOg9WnDKH8p",
        "outputId": "f2361a90-fff6-4445-9848-c1fbecaef0e0"
      },
      "execution_count": null,
      "outputs": [
        {
          "output_type": "stream",
          "name": "stdout",
          "text": [
            "Z-statistic: -3.752767708170331\n",
            "P-value: 0.00017489290260848647\n",
            "The difference in proportions is statistically significant.\n"
          ]
        }
      ]
    },
    {
      "cell_type": "code",
      "source": [
        "str1 = '6325/6440'\n",
        "str2 = '7014/7083'\n",
        "pooled_proportions(str1, str2)"
      ],
      "metadata": {
        "colab": {
          "base_uri": "https://localhost:8080/"
        },
        "id": "ef10ajFWKWpO",
        "outputId": "50623dfb-db6d-4291-f467-d9bb216986b3"
      },
      "execution_count": null,
      "outputs": [
        {
          "output_type": "stream",
          "name": "stdout",
          "text": [
            "Z-statistic: -4.068489867182064\n",
            "P-value: 4.73188184468785e-05\n",
            "The difference in proportions is statistically significant.\n"
          ]
        }
      ]
    },
    {
      "cell_type": "code",
      "source": [
        "str1 = '7014/7083'\n",
        "str2 = '13150/13248'\n",
        "pooled_proportions(str1, str2)"
      ],
      "metadata": {
        "colab": {
          "base_uri": "https://localhost:8080/"
        },
        "id": "4mc2oimWKdgG",
        "outputId": "d3043288-c242-4c35-dcbd-a75caa4d5999"
      },
      "execution_count": null,
      "outputs": [
        {
          "output_type": "stream",
          "name": "stdout",
          "text": [
            "Z-statistic: -1.7645267996132412\n",
            "P-value: 0.07764332740249881\n",
            "The difference in proportions is not statistically significant.\n"
          ]
        }
      ]
    },
    {
      "cell_type": "code",
      "source": [
        "str1 = '6321/6462'\n",
        "str2 = '7115/7184'\n",
        "pooled_proportions(str1, str2)"
      ],
      "metadata": {
        "colab": {
          "base_uri": "https://localhost:8080/"
        },
        "id": "KlWiS7JcKmyO",
        "outputId": "c51c73e2-f389-4efe-e364-104a1abe4420"
      },
      "execution_count": null,
      "outputs": [
        {
          "output_type": "stream",
          "name": "stdout",
          "text": [
            "Z-statistic: -5.78795316984304\n",
            "P-value: 7.124926720243811e-09\n",
            "The difference in proportions is statistically significant.\n"
          ]
        }
      ]
    },
    {
      "cell_type": "code",
      "source": [
        "str1 = '7115/7184'\n",
        "str2 = '6733/6781'\n",
        "pooled_proportions(str1, str2)"
      ],
      "metadata": {
        "colab": {
          "base_uri": "https://localhost:8080/"
        },
        "id": "Xa_0Y8P4K_gY",
        "outputId": "81177b14-6357-4db3-9575-a0347972f718"
      },
      "execution_count": null,
      "outputs": [
        {
          "output_type": "stream",
          "name": "stdout",
          "text": [
            "Z-statistic: -1.6368553451699985\n",
            "P-value: 0.10166069830164072\n",
            "The difference in proportions is not statistically significant.\n"
          ]
        }
      ]
    },
    {
      "cell_type": "code",
      "source": [
        "str1 = '6736/6846'\n",
        "str2 = '7326/7390'\n",
        "pooled_proportions(str1, str2)"
      ],
      "metadata": {
        "colab": {
          "base_uri": "https://localhost:8080/"
        },
        "id": "W6r74FR8LEh9",
        "outputId": "021b3152-a7b1-4bd6-ad19-d6d95c617bb5"
      },
      "execution_count": null,
      "outputs": [
        {
          "output_type": "stream",
          "name": "stdout",
          "text": [
            "Z-statistic: -4.018868045758218\n",
            "P-value: 5.847840784051433e-05\n",
            "The difference in proportions is statistically significant.\n"
          ]
        }
      ]
    },
    {
      "cell_type": "code",
      "source": [
        "str1 = '7326/7390'\n",
        "str2 = '6953/6980'\n",
        "pooled_proportions(str1, str2)"
      ],
      "metadata": {
        "colab": {
          "base_uri": "https://localhost:8080/"
        },
        "id": "8rp4tAlGLMvs",
        "outputId": "731bc228-fe09-4e97-9245-faf7f2652071"
      },
      "execution_count": null,
      "outputs": [
        {
          "output_type": "stream",
          "name": "stdout",
          "text": [
            "Z-statistic: -3.619426469285298\n",
            "P-value: 0.0002952566930030353\n",
            "The difference in proportions is statistically significant.\n"
          ]
        }
      ]
    },
    {
      "cell_type": "code",
      "source": [
        "str1 = '6761/6844'\n",
        "str2 = '7057/7106'\n",
        "pooled_proportions(str1, str2)"
      ],
      "metadata": {
        "colab": {
          "base_uri": "https://localhost:8080/"
        },
        "id": "DG3Uyya4LR-P",
        "outputId": "02f429d9-ec5d-47ce-9879-a78ee7b552d7"
      },
      "execution_count": null,
      "outputs": [
        {
          "output_type": "stream",
          "name": "stdout",
          "text": [
            "Z-statistic: -3.1907938229904578\n",
            "P-value: 0.0014188249073304917\n",
            "The difference in proportions is statistically significant.\n"
          ]
        }
      ]
    },
    {
      "cell_type": "code",
      "source": [
        "str1 = '7057/7106'\n",
        "str2 = '7014/7036'\n",
        "pooled_proportions(str1, str2)"
      ],
      "metadata": {
        "colab": {
          "base_uri": "https://localhost:8080/"
        },
        "id": "jxzrVMOtLbYm",
        "outputId": "64e815e9-974b-4025-eb49-b4ea406a2d6a"
      },
      "execution_count": null,
      "outputs": [
        {
          "output_type": "stream",
          "name": "stdout",
          "text": [
            "Z-statistic: -3.1706105568550336\n",
            "P-value: 0.0015211893389605838\n",
            "The difference in proportions is statistically significant.\n"
          ]
        }
      ]
    },
    {
      "cell_type": "markdown",
      "source": [
        "## Table 5 (Prompts)"
      ],
      "metadata": {
        "id": "nnH3HJzlMCx4"
      }
    },
    {
      "cell_type": "code",
      "source": [
        "str1 = '6448/6534'\n",
        "str2 = '5612/6038'\n",
        "pooled_proportions(str1, str2)"
      ],
      "metadata": {
        "colab": {
          "base_uri": "https://localhost:8080/"
        },
        "id": "I-__vgkZLpOe",
        "outputId": "026a2f81-423e-4fe5-85c8-c539d4ad0792"
      },
      "execution_count": null,
      "outputs": [
        {
          "output_type": "stream",
          "name": "stdout",
          "text": [
            "Z-statistic: 16.2657947317704\n",
            "P-value: 1.7261284664815154e-59\n",
            "The difference in proportions is statistically significant.\n"
          ]
        }
      ]
    },
    {
      "cell_type": "code",
      "source": [
        "str1 = '7390/7439'\n",
        "str2 = '6809/6886'\n",
        "pooled_proportions(str1, str2)"
      ],
      "metadata": {
        "colab": {
          "base_uri": "https://localhost:8080/"
        },
        "id": "tUC7uuIzMLwW",
        "outputId": "90c916f4-de00-40d6-bf65-3ad5c0064702"
      },
      "execution_count": null,
      "outputs": [
        {
          "output_type": "stream",
          "name": "stdout",
          "text": [
            "Z-statistic: 2.9429205561905447\n",
            "P-value: 0.0032513184102542286\n",
            "The difference in proportions is statistically significant.\n"
          ]
        }
      ]
    },
    {
      "cell_type": "code",
      "source": [
        "str1 = '6844/6893'\n",
        "str2 = '6646/6713'\n",
        "pooled_proportions(str1, str2)"
      ],
      "metadata": {
        "colab": {
          "base_uri": "https://localhost:8080/"
        },
        "id": "Re5mFDe2MRTG",
        "outputId": "34274c9b-7ac8-4416-fcda-0a809c59a13a"
      },
      "execution_count": null,
      "outputs": [
        {
          "output_type": "stream",
          "name": "stdout",
          "text": [
            "Z-statistic: 1.821684548017929\n",
            "P-value: 0.06850286386058144\n",
            "The difference in proportions is not statistically significant.\n"
          ]
        }
      ]
    },
    {
      "cell_type": "code",
      "source": [
        "str1 = '6646/6713'\n",
        "str2 = '6838/6889'\n",
        "pooled_proportions(str1, str2)"
      ],
      "metadata": {
        "colab": {
          "base_uri": "https://localhost:8080/"
        },
        "id": "F5YtqNR2NL0N",
        "outputId": "1c8bb944-d41e-433f-da8c-306ce6a6a0af"
      },
      "execution_count": null,
      "outputs": [
        {
          "output_type": "stream",
          "name": "stdout",
          "text": [
            "Z-statistic: -1.6206560287745644\n",
            "P-value: 0.10509142882451249\n",
            "The difference in proportions is not statistically significant.\n"
          ]
        }
      ]
    },
    {
      "cell_type": "code",
      "source": [
        "str1 = '7119/7169'\n",
        "str2 = '7041/7090'\n",
        "pooled_proportions(str1, str2)"
      ],
      "metadata": {
        "colab": {
          "base_uri": "https://localhost:8080/"
        },
        "id": "bSng5S5SNhqm",
        "outputId": "567d419a-9a39-4bd8-a079-94be4741daf1"
      },
      "execution_count": null,
      "outputs": [
        {
          "output_type": "stream",
          "name": "stdout",
          "text": [
            "Z-statistic: -0.04553694377221442\n",
            "P-value: 0.9636793285558315\n",
            "The difference in proportions is not statistically significant.\n"
          ]
        }
      ]
    },
    {
      "cell_type": "code",
      "source": [
        "str1 = '7041/7090'\n",
        "str2 = '6404/6488'\n",
        "pooled_proportions(str1, str2)"
      ],
      "metadata": {
        "colab": {
          "base_uri": "https://localhost:8080/"
        },
        "id": "GhJV1dNpN0RW",
        "outputId": "3e56100c-a704-4e03-a981-72577f140529"
      },
      "execution_count": null,
      "outputs": [
        {
          "output_type": "stream",
          "name": "stdout",
          "text": [
            "Z-statistic: 3.567201891711192\n",
            "P-value: 0.00036081348884209926\n",
            "The difference in proportions is statistically significant.\n"
          ]
        }
      ]
    },
    {
      "cell_type": "code",
      "source": [],
      "metadata": {
        "id": "XiPWv1KuN_WN"
      },
      "execution_count": null,
      "outputs": []
    },
    {
      "cell_type": "markdown",
      "source": [
        "## Temperature"
      ],
      "metadata": {
        "id": "znOGQeDoPE6_"
      }
    },
    {
      "cell_type": "code",
      "source": [
        "rag_promptA_tempzero = '6927/7011'\n",
        "rag_promptA_tempdef = '6986/7053'\n",
        "# rag_prod_tempzero = '6591/6641'\n",
        "# rag_prod_tempzero_2 = '6592/6649'\n",
        "rag_prod_tempzero_total = '13183/13290'\n",
        "# rag_prod_tempdef = '7586/7604'\n",
        "# rag_prod_tempdef_2 = '6627/6667'\n",
        "# rag_prod_tempdef_3 = '6627/6676'\n",
        "rag_prod_tempdef_total = '20840/20947'"
      ],
      "metadata": {
        "id": "3pNlV9FePHaX"
      },
      "execution_count": null,
      "outputs": []
    },
    {
      "cell_type": "code",
      "source": [
        "claude35_promptA_tempzero = '7054/7089'\n",
        "claude35_promptA_tempdef = '6477/6557'"
      ],
      "metadata": {
        "id": "8ScEXMfioKOO"
      },
      "execution_count": null,
      "outputs": []
    },
    {
      "cell_type": "code",
      "source": [
        "pooled_proportions(rag_promptA_tempzero, rag_promptA_tempdef)"
      ],
      "metadata": {
        "colab": {
          "base_uri": "https://localhost:8080/"
        },
        "id": "ags3iE2Epv5q",
        "outputId": "9f6299af-3081-4097-ee38-e55ef82fb2b5"
      },
      "execution_count": null,
      "outputs": [
        {
          "output_type": "stream",
          "name": "stdout",
          "text": [
            "Z-statistic: -1.4278292972662676\n",
            "P-value: 0.15334099797110542\n",
            "The difference in proportions is not statistically significant.\n"
          ]
        }
      ]
    },
    {
      "cell_type": "code",
      "source": [
        "pooled_proportions(rag_prod_tempzero_total, rag_prod_tempdef_total)"
      ],
      "metadata": {
        "colab": {
          "base_uri": "https://localhost:8080/"
        },
        "id": "PClwe5AFqS57",
        "outputId": "09d9c9a1-397a-40c4-9cba-d49d6cd4db97"
      },
      "execution_count": null,
      "outputs": [
        {
          "output_type": "stream",
          "name": "stdout",
          "text": [
            "Z-statistic: -3.367236962930175\n",
            "P-value: 0.0007592541791385862\n",
            "The difference in proportions is statistically significant.\n"
          ]
        }
      ]
    },
    {
      "cell_type": "code",
      "source": [
        "pooled_proportions(claude35_promptA_tempzero, claude35_promptA_tempdef)"
      ],
      "metadata": {
        "colab": {
          "base_uri": "https://localhost:8080/"
        },
        "id": "woAiWlCZqaRr",
        "outputId": "f5c7f5c4-f6a2-4b1c-d89a-d0a9fcb68982"
      },
      "execution_count": null,
      "outputs": [
        {
          "output_type": "stream",
          "name": "stdout",
          "text": [
            "Z-statistic: 4.637440317967845\n",
            "P-value: 3.5275041971837977e-06\n",
            "The difference in proportions is statistically significant.\n"
          ]
        }
      ]
    },
    {
      "cell_type": "markdown",
      "source": [
        "## RAG Hypothesis"
      ],
      "metadata": {
        "id": "rQhgWGB_u1B6"
      }
    },
    {
      "cell_type": "code",
      "source": [
        "rag_prod_tempdef = '7586/7604'\n",
        "rag_prod_tempdef_2 = '6627/6667'\n",
        "rag_prod_tempdef_3 = '6627/6676'\n",
        "rag_prod_tempdef_total = '20840/20947'\n",
        "gpt0513_prod_tempdef = '6816/6862'\n",
        "gpt0513_prod_tempdef_2 = '6747/6795'\n",
        "gpt0513_prod_tempdef_3 = '6802/6835'\n",
        "gpt0513_prod_tempdef_4 = '6805/6855'\n",
        "gpt0513_prod_tempdef_total = '27170/27347'"
      ],
      "metadata": {
        "id": "NWbdWwZO_Mk7"
      },
      "execution_count": null,
      "outputs": []
    },
    {
      "cell_type": "code",
      "source": [
        "#First result\n",
        "pooled_proportions(rag_prod_tempdef, gpt0513_prod_tempdef)"
      ],
      "metadata": {
        "colab": {
          "base_uri": "https://localhost:8080/"
        },
        "id": "dc_DeqJIqxSU",
        "outputId": "8b679505-4835-4a7d-bed9-2e1c90abdd1b"
      },
      "execution_count": null,
      "outputs": [
        {
          "output_type": "stream",
          "name": "stdout",
          "text": [
            "Z-statistic: 3.9241858482293237\n",
            "P-value: 8.702353709418514e-05\n",
            "The difference in proportions is statistically significant.\n"
          ]
        }
      ]
    },
    {
      "cell_type": "code",
      "source": [
        "#Sanity check\n",
        "pooled_proportions(gpt0513_prod_tempdef, gpt0513_prod_tempdef_3)"
      ],
      "metadata": {
        "colab": {
          "base_uri": "https://localhost:8080/"
        },
        "id": "ebu6M1txMqPq",
        "outputId": "6d0f77f9-cca5-465a-9454-342d38dbbd28"
      },
      "execution_count": null,
      "outputs": [
        {
          "output_type": "stream",
          "name": "stdout",
          "text": [
            "Z-statistic: -1.449281908397556\n",
            "P-value: 0.1472588713283541\n",
            "The difference in proportions is not statistically significant.\n"
          ]
        }
      ]
    },
    {
      "cell_type": "code",
      "source": [
        "#Combining experiment results\n",
        "pooled_proportions_larger(rag_prod_tempdef_total, gpt0513_prod_tempdef_total)"
      ],
      "metadata": {
        "colab": {
          "base_uri": "https://localhost:8080/"
        },
        "id": "pLmDW-yGBUsO",
        "outputId": "8f05ddd3-99e8-41e4-b9b6-11e735e91457"
      },
      "execution_count": null,
      "outputs": [
        {
          "output_type": "stream",
          "name": "stdout",
          "text": [
            "Z-statistic: 1.9432524742119581\n",
            "P-value: 0.02599283035830279\n",
            "The difference in proportions is statistically significant.\n"
          ]
        }
      ]
    },
    {
      "cell_type": "markdown",
      "source": [
        "## RAG temperature"
      ],
      "metadata": {
        "id": "0J8X-jw7oqIP"
      }
    },
    {
      "cell_type": "code",
      "source": [
        "#Prompt A\n",
        "rag_tempzero = '6927/7011'\n",
        "rag_tempdef = '6986/7053'\n",
        "\n",
        "pooled_proportions(rag_tempzero, rag_tempdef)"
      ],
      "metadata": {
        "colab": {
          "base_uri": "https://localhost:8080/"
        },
        "id": "64HX2kpZp4AJ",
        "outputId": "caffbde4-9ade-411b-f666-bf32b79ebebb"
      },
      "execution_count": null,
      "outputs": [
        {
          "output_type": "stream",
          "name": "stdout",
          "text": [
            "Z-statistic: -1.4278292972662676\n",
            "P-value: 0.15334099797110542\n",
            "The difference in proportions is not statistically significant.\n"
          ]
        }
      ]
    },
    {
      "cell_type": "code",
      "source": [
        "#Prompt B\n",
        "rag_prod_tempdef_total = '20840/20947'\n",
        "rag_prod_tempzero = '6591/6641'\n",
        "rag_prod_tempzero_2 = '6592/6649'\n",
        "rag_prod_tempzero_total = '13183/13290'\n",
        "\n",
        "pooled_proportions(rag_prod_tempdef_total, rag_prod_tempzero_total)"
      ],
      "metadata": {
        "id": "r4ZgMHOxBW6w",
        "colab": {
          "base_uri": "https://localhost:8080/"
        },
        "outputId": "6a72d515-2b9a-4343-99c9-ec7b943764cc"
      },
      "execution_count": null,
      "outputs": [
        {
          "output_type": "stream",
          "name": "stdout",
          "text": [
            "Z-statistic: 3.367236962930175\n",
            "P-value: 0.0007592541791385862\n",
            "The difference in proportions is statistically significant.\n"
          ]
        }
      ]
    },
    {
      "cell_type": "markdown",
      "source": [
        "## RAG prompt"
      ],
      "metadata": {
        "id": "ZLfSxHvrq9vx"
      }
    },
    {
      "cell_type": "code",
      "source": [
        "#temp 0\n",
        "rag_promptA_tempzero = '6927/7011'\n",
        "rag_prod_tempzero = '6591/6641'\n",
        "rag_prod_tempzero_2 = '6592/6649'\n",
        "rag_prod_tempzero_total = '13183/13290'\n",
        "\n",
        "pooled_proportions(rag_tempzero, rag_prod_tempzero_total)"
      ],
      "metadata": {
        "colab": {
          "base_uri": "https://localhost:8080/"
        },
        "id": "KwWOSTcUq_FZ",
        "outputId": "1117d2e3-a807-496b-e349-62a1ba82556a"
      },
      "execution_count": null,
      "outputs": [
        {
          "output_type": "stream",
          "name": "stdout",
          "text": [
            "Z-statistic: -2.7579202332858768\n",
            "P-value: 0.005817039061580658\n",
            "The difference in proportions is statistically significant.\n"
          ]
        }
      ]
    },
    {
      "cell_type": "code",
      "source": [
        "#tempdef\n",
        "rag_tempdef = '6986/7053'\n",
        "rag_prod_tempdef_total = '20840/20947'\n",
        "\n",
        "pooled_proportions(rag_tempdef, rag_prod_tempdef_total)"
      ],
      "metadata": {
        "colab": {
          "base_uri": "https://localhost:8080/"
        },
        "id": "i9C-hRg3rPun",
        "outputId": "4e3bec91-8632-4757-9b86-218ae74144fe"
      },
      "execution_count": null,
      "outputs": [
        {
          "output_type": "stream",
          "name": "stdout",
          "text": [
            "Z-statistic: -4.059076696587156\n",
            "P-value: 4.926713123049568e-05\n",
            "The difference in proportions is statistically significant.\n"
          ]
        }
      ]
    },
    {
      "cell_type": "markdown",
      "source": [
        "## RAG vs NO RAG Prompt A & Prompt B, T = 0"
      ],
      "metadata": {
        "id": "efhoapwDx_3A"
      }
    },
    {
      "cell_type": "code",
      "source": [
        "gpt0513_promptA_tempzero = '7259/7296'\n",
        "gpt0513_promptA_tempzero_2 = '7077/7125'\n",
        "gpt0513_promptA_tempzero_3 = '7143/7189'\n",
        "gpt0513_promptA_tempzero_total = '21479/21610'\n",
        "\n",
        "rag_promptA_tempzero = '6927/7011'\n",
        "\n",
        "pooled_proportions(gpt0513_promptA_tempzero_total, rag_promptA_tempzero)"
      ],
      "metadata": {
        "colab": {
          "base_uri": "https://localhost:8080/"
        },
        "id": "LPsvuYkYyCvx",
        "outputId": "2090671a-b136-4248-dd49-faf0de4f9188"
      },
      "execution_count": 7,
      "outputs": [
        {
          "output_type": "stream",
          "name": "stdout",
          "text": [
            "Z-statistic: 4.987648953212741\n",
            "P-value: 6.111849414065232e-07\n",
            "The difference in proportions is statistically significant.\n"
          ]
        }
      ]
    },
    {
      "cell_type": "code",
      "source": [
        "gpt0513_promptA_tempdef = '7360/7404'\n",
        "rag_promptA_tempdef = '6986/7053'\n",
        "\n",
        "pooled_proportions(gpt0513_promptA_tempdef, rag_promptA_tempdef)"
      ],
      "metadata": {
        "colab": {
          "base_uri": "https://localhost:8080/"
        },
        "id": "J8dK8dRE0vkL",
        "outputId": "fe402f09-049f-47e6-e615-fd94db170a92"
      },
      "execution_count": 6,
      "outputs": [
        {
          "output_type": "stream",
          "name": "stdout",
          "text": [
            "Z-statistic: 2.448996301651446\n",
            "P-value: 0.014325491905361505\n",
            "The difference in proportions is statistically significant.\n"
          ]
        }
      ]
    },
    {
      "cell_type": "code",
      "source": [
        "rag_prod_tempzero = '6591/6641'\n",
        "rag_prod_tempzero_2 = '6592/6649'\n",
        "rag_prod_tempzero_total = '13183/13290'\n",
        "\n",
        "gpt0513_promptB_tempzero = '6727/6768'\n",
        "\n",
        "pooled_proportions(rag_prod_tempzero_total, gpt0513_promptB_tempzero)"
      ],
      "metadata": {
        "colab": {
          "base_uri": "https://localhost:8080/"
        },
        "id": "K95a4wqr2z3w",
        "outputId": "15bb7ab8-79bd-4482-fdd4-5e05d11f9795"
      },
      "execution_count": 8,
      "outputs": [
        {
          "output_type": "stream",
          "name": "stdout",
          "text": [
            "Z-statistic: -1.559663965041184\n",
            "P-value: 0.11883931196921532\n",
            "The difference in proportions is not statistically significant.\n"
          ]
        }
      ]
    },
    {
      "cell_type": "markdown",
      "source": [
        "## Confidence intervals"
      ],
      "metadata": {
        "id": "j_HzoTr3otRf"
      }
    },
    {
      "cell_type": "code",
      "source": [
        "#Best-performing model - gpt45_promptB_tempzero\n",
        "import numpy as np\n",
        "\n",
        "n = 6917\n",
        "p = 6897.0/n\n",
        "se = np.sqrt(p*(1-p)/n)\n",
        "z_score = 1.96\n",
        "margin_of_error = z_score * se\n",
        "lower_bound = p - margin_of_error\n",
        "upper_bound = p + margin_of_error\n",
        "\n",
        "print(lower_bound)\n",
        "print(upper_bound)"
      ],
      "metadata": {
        "id": "0r9qJZGzrnQy",
        "colab": {
          "base_uri": "https://localhost:8080/"
        },
        "outputId": "9f5f7e96-e742-4f99-9337-460cf26c4251"
      },
      "execution_count": 2,
      "outputs": [
        {
          "output_type": "stream",
          "name": "stdout",
          "text": [
            "0.9958431827293451\n",
            "0.9983739634322856\n"
          ]
        }
      ]
    },
    {
      "cell_type": "code",
      "source": [],
      "metadata": {
        "id": "JrT0iVTQvBnl"
      },
      "execution_count": null,
      "outputs": []
    }
  ]
}