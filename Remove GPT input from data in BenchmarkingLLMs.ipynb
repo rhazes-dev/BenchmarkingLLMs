{
 "cells": [
  {
   "cell_type": "code",
   "execution_count": 1,
   "id": "fbddaedf",
   "metadata": {},
   "outputs": [],
   "source": [
    "# prompt: iterate through all .csv files in the directory called data within the current directory and delete the columns called GPT_input - the index is in the first column in the csv files - once the column is deleted, save the file with the same name under the /clean_data directory - do not make a function\n",
    "# NEEDED TO COMPLY WITH MIMIC-IV RULES\n",
    "# Easily reproducible by downloading MIMIC, running the SQL codes and then selecting the hadmIDs from gpt_short_input.csv (resulting file after SQL script executions)\n",
    "\n",
    "import pandas as pd\n",
    "import os\n",
    "import shutil\n",
    "\n",
    "# Iterate through all CSV files in the data directory\n",
    "for filename in os.listdir('./data'):\n",
    "    if filename.endswith('.csv'):\n",
    "        filepath = os.path.join('./data', filename)\n",
    "        try:\n",
    "            df = pd.read_csv(filepath, index_col=0)  # Assuming the index is the first column\n",
    "            if 'GPT_input' in df.columns:\n",
    "                df = df.drop('GPT_input', axis=1)\n",
    "                new_filepath = os.path.join('./clean_data', filename)\n",
    "                df.to_csv(new_filepath, index=False)\n",
    "            else:\n",
    "                print('Column not found for')\n",
    "                print(filename)\n",
    "        except Exception as e:\n",
    "            print(f\"Error processing {filename}: {e}\")"
   ]
  },
  {
   "cell_type": "code",
   "execution_count": null,
   "id": "15f6b0d3",
   "metadata": {},
   "outputs": [],
   "source": []
  }
 ],
 "metadata": {
  "kernelspec": {
   "display_name": "Python 3 (ipykernel)",
   "language": "python",
   "name": "python3"
  },
  "language_info": {
   "codemirror_mode": {
    "name": "ipython",
    "version": 3
   },
   "file_extension": ".py",
   "mimetype": "text/x-python",
   "name": "python",
   "nbconvert_exporter": "python",
   "pygments_lexer": "ipython3",
   "version": "3.7.16"
  }
 },
 "nbformat": 4,
 "nbformat_minor": 5
}
