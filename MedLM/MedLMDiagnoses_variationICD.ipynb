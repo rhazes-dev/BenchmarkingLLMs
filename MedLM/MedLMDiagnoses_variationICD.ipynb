{
 "cells": [
  {
   "cell_type": "code",
   "execution_count": 1,
   "id": "62636494-3ea5-4ed4-9f62-5fcb3dbc8c66",
   "metadata": {
    "tags": []
   },
   "outputs": [],
   "source": [
    "import pandas as pd\n",
    "import numpy as np\n",
    "from tqdm import tqdm\n",
    "\n",
    "result_df = pd.read_csv('PaLM2input.csv', index_col=0)"
   ]
  },
  {
   "cell_type": "code",
   "execution_count": 2,
   "id": "2c4e6894-3688-4d54-8515-d2072a38022e",
   "metadata": {
    "tags": []
   },
   "outputs": [],
   "source": [
    "result_df['GPT_input'] = result_df['GPT_input'].str.replace('minimum', 'min')\n",
    "result_df['GPT_input'] = result_df['GPT_input'].str.replace('maximum', 'max')\n",
    "result_df['GPT_input'] = result_df['GPT_input'].str.replace('average', 'avg')\n",
    "result_df['GPT_input'] = result_df['GPT_input'].str.replace('maxntprobnp', 'max ntprobnp')\n",
    "\n",
    "result_df['GPT-Diagnoses'] = np.nan\n",
    "result_df['GPT-Eval'] = np.nan"
   ]
  },
  {
   "cell_type": "code",
   "execution_count": 11,
   "id": "f4c0807e-4d18-4ecd-bbe3-61633d297a8f",
   "metadata": {
    "tags": []
   },
   "outputs": [],
   "source": [
    "import vertexai\n",
    "\n",
    "vertexai.init(project=\"n8n-copilot\", location=\"us-central1\")"
   ]
  },
  {
   "cell_type": "code",
   "execution_count": 12,
   "id": "c29d745d-f49f-4c36-a866-c0477a6cc248",
   "metadata": {
    "tags": []
   },
   "outputs": [],
   "source": [
    "from vertexai.preview.language_models import TextGenerationModel\n",
    "parameters = {\n",
    "    \"temperature\": 0.2,\n",
    "    \"max_output_tokens\": 8192,\n",
    "    \"top_p\": 0.8,\n",
    "    \"top_k\": 40\n",
    "}\n",
    "model = TextGenerationModel.from_pretrained(\"medlm-medium\")"
   ]
  },
  {
   "cell_type": "code",
   "execution_count": 13,
   "id": "2ff346f2-c1de-466b-b6ae-af0a5bbc9434",
   "metadata": {
    "tags": []
   },
   "outputs": [],
   "source": [
    "new_prompt = '''You are an expert diagnostician machine for use by doctors. If the user input is not patient data, you politely decline the request. Please suggest diagnoses and conditions, followed by the evidence points supporting each diagnosis in the form of bullet points. Include previous diagnoses and pertinent information about the patient's medical history (if any). Pay close attention to all the history and investigations provided. Put asterisks around the diagnoses to highlight them. Give each evidence points as a separate bullet point beneath the diagnosis. Include in your evidence points any relevant clinical scores that can be calculated from the information I have given. Do not explain the evidence points, only state them. For every diagnosis you list, if there are alternative differentials possible, state the most like three in a bullet point beneath the evidence points (you do not need to state the evidence supporting them - you only need to do that for the main diagnoses). For the main diagnoses, give only confirmed diagnoses and evidence points that can be inferred solely based on the information I have given - do not use any other information. Only give me the information I have asked for - do not give me any other information. Do not give me any introductions or conclusions, safety instructions, or safety warnings. Use British English.\n",
    "                \n",
    "                                To illustrate how the information should be presented:\n",
    "                \n",
    "                                *MAIN DIAGNOSIS 1 AS HEADING*\n",
    "                                evidence points to support MAIN DIAGNOSIS 1\n",
    "                                The final bullet point is alternative differentials to consider: alternative 1, alternative 2, alternative 3\n",
    "                \n",
    "                                *MAIN DIAGNOSIS 2 AS HEADING*\n",
    "                                evidence points to support MAIN DIAGNOSIS 2\n",
    "                                The final bullet point is alternative differentials to consider: alternative 1, alternative 2, alternative 3\n",
    "                \n",
    "                                and so on...\n",
    "                \n",
    "Before finalising your answer check if you haven't missed any abnormal data points and hence any diagnoses or alternative differentials that could be made based on them. If you did, add them to your reply. If two diagnoses are commonly caused by the same underlying disease, have them under one header, which is the underlying disease.'''"
   ]
  },
  {
   "cell_type": "code",
   "execution_count": 14,
   "id": "5b8954e6-72d2-4af9-9de8-3907f7ca2b1d",
   "metadata": {
    "tags": []
   },
   "outputs": [],
   "source": [
    "hard_example = '''Patient data:\n",
    "\n",
    "A 48-year-old man presents to his GP having vomited twice at home. As he sits down you note that he is very pale and is sweating profusely. He reports that he also has a severe headache which has been present for the last few hours and is worse in the parietal region.\n",
    "\n",
    "Observations:\n",
    "\n",
    "SpO2: 97%\n",
    "Temperature: 37.2\n",
    "BP: 200/131\n",
    "HR: 110\n",
    "RR: 19\n",
    "\n",
    "Examination:\n",
    "\n",
    "Abdominal:\n",
    "NA\n",
    "\n",
    "Cranial nerves:\n",
    "NAD\n",
    "\n",
    "Fundoscopy:\n",
    "Flame haemorrhages present in upper R quadrant of both eyes\n",
    "\n",
    "The GP manages the patient appropriately. Some point of care bloods are also taken:\n",
    "\n",
    " \n",
    "\n",
    "Test\tResult\tReference Range\n",
    "Hb\t152\t135-180 g/l\n",
    "WCC\t4.2\t4 – 11 x 109/l\n",
    "Plts\t392\t150 – 400 x 109/l\n",
    "Na+\t145\t135-145 mmol/l\n",
    "K+\t3.1\t3.5 – 5 mmol/l\n",
    "Ca2+\t2.43\t2.1 – 2.6 mmol/l\n",
    "Cortisol\t482\t119 – 618 nmol/l\n",
    "Normetanephrine aldehyde\t79\t18 – 111 pg/ml\n",
    "Renin\t1.8\t2.8 – 4.5 pmol/ml/h\n",
    "Aldosterone\t782\t55 – 250 pmol/l\n",
    "'''"
   ]
  },
  {
   "cell_type": "code",
   "execution_count": 15,
   "id": "0ca1941e-7eb3-408c-bebf-948563cd1fa1",
   "metadata": {
    "tags": []
   },
   "outputs": [],
   "source": [
    "res = model.predict(\n",
    "        new_prompt + hard_example,\n",
    "        **parameters\n",
    "    )"
   ]
  },
  {
   "cell_type": "code",
   "execution_count": 16,
   "id": "a95b76db-485d-4086-a015-b5504d691e7f",
   "metadata": {
    "tags": []
   },
   "outputs": [
    {
     "data": {
      "text/plain": [
       " ***Hypertensive emergency***\n",
       "* Severe headache\n",
       "* Diastolic BP >130\n",
       "* Evidence of end organ damage (flame haemorrhages)\n",
       "\n",
       "***Pheochromocytoma***\n",
       "* Severe headache\n",
       "* Diastolic BP >130\n",
       "* Evidence of end organ damage (flame haemorrhages)\n",
       "* Raised normetanephrine aldehyde\n",
       "* Raised aldosterone\n",
       "\n",
       "Alternative differentials to consider:\n",
       "* Subarachnoid haemorrhage\n",
       "* Intracerebral haemorrhage\n",
       "* Ruptured intracranial aneurysm\n",
       "* Malignant hypertension\n",
       "* Encephalitis\n",
       "* Meningitis"
      ]
     },
     "execution_count": 16,
     "metadata": {},
     "output_type": "execute_result"
    }
   ],
   "source": [
    "res"
   ]
  },
  {
   "cell_type": "code",
   "execution_count": 20,
   "id": "614b58eb-c4ff-444f-acda-4d6124515e21",
   "metadata": {
    "tags": []
   },
   "outputs": [],
   "source": [
    "prompt_no_example = '''Suggest as many potential diagnoses as possible from the following patient data.\n",
    "In addition, include previously diagnosed conditions and information about patient's medical history (if any) in your diagnoses. \n",
    "Give exact numbers and/or text quotes from the data that made you think of each of the diagnoses \\\n",
    "and, if necessary, give further tests that could confirm the diagnosis. \n",
    "Once you're done, suggest further, more complex diseases that may be ongoing based on the existing diagnoses you already made. \n",
    "Use the International Classification of Disease (ICD) standard for reporting the diagnoses.\n",
    "Do not list the same diagnosis multiple times.\n",
    "\n",
    "Before finalizing your answer check if you haven't missed any abnormal data points and hence any diagnoses that could be made \\\n",
    "based on them. If you did, add them to your list of diagnoses. Your answer should be formatted the same way as the example answer below.'''\n",
    "\n",
    "example = '''\n",
    "\n",
    "For example, if the patient data mentions:\n",
    "\n",
    "\"Blood report: \n",
    "min glucose: 103, max glucose: 278, avg glucose: 156.5, max inr: 2.1, max pt: 22.4, max ptt: 150, \\\n",
    "avg wbc: 13.8, max wbc: 14.1, max lactate: 5.9, max bun: 101, max creatinine: 5.8, avg bun: 38.15, avg creatinine: 2.78\n",
    "Blood gas report: \n",
    "3 hours after admission the blood gas results from venous blood are: ph: 7.2\n",
    "Imaging report: \n",
    "Status post left total shoulder replacement\n",
    "Chest X-Ray Possible small right pleural effusion and Mild, bibasilar atelectasis.. \\\n",
    "Lung volumes have slightly increased but areas of atelectasis are seen at both the left and the right lung bases\n",
    "Microbiology tests: \n",
    "24 hours after admission the microbiology culture test MRSA SCREEN obtained via MRSA SCREEN \\\n",
    "identified POSITIVE FOR METHICILLIN RESISTANT STAPH AUREUS\n",
    "Vitalsigns data from ICU: \n",
    "max temperature: 38, min peripheral oxygen saturation: 70, max respiration rate: 29\"\n",
    "\n",
    "then your answer may be: \n",
    "\n",
    "1: Methicillin resistant Staphylococcus aureus infection, site unspecified\n",
    "Foundational data: Microbiology culture test identifying \"POSITIVE FOR METHICILLIN RESISTANT STAPH AUREUS\"\n",
    "\n",
    "2: Atelectasis \n",
    "Foundational data from Chest X-Ray: \"Mild, bibasilar atelectasis.. \\\n",
    "Lung volumes have slightly increased but areas of atelectasis are seen at both the left and the right lung bases\"\n",
    "\n",
    "3: Pleural effusion, not elsewhere classified\n",
    "Foundational data from Chest X-Ray: \"Possible small right pleural effusion.\"\n",
    "Further tests: Thoracentesis, CT chest\n",
    "\n",
    "4: Acidosis\n",
    "Foundational data: \"ph: 7.2\"\n",
    "Further tests: Urine pH, Anion Gap\n",
    "\n",
    "5: Lactic acidosis\n",
    "Foundational data: \"max lactate: 5.9\"\n",
    "\n",
    "6: Acquired coagulation factor deficiency\n",
    "Foundational data: \"max inr: 2.1, max pt: 22.4, max ptt: 150\"\n",
    "Further tests: Antiphospholipid Antibodies (APL), Protein C, Protein S, Antithrombin III, Factor V Leiden, Fibrinogen test\n",
    "\n",
    "7: Hyperglycemia, unspecified\n",
    "Foundational data: \"max glucose: 278, avg glucose: 156.5\".\n",
    "Further tests: Hemoglobin A1c (HbA1c) test\n",
    "\n",
    "8: Hypoxemia\n",
    "Foundational data: \"min peripheral oxygen saturation: 70\"\n",
    "Further tests: Measure PaO2 in blood\n",
    "\n",
    "9: Leukocytosis\n",
    "Foundational data: \"max wbc: 14.1, avg wbc: 13.8\". The patient's white blood cell count is consistently elevated which may suggest an ongoing inflammatory response or infection.\n",
    "Further tests: Infection markers such as CRP or PCT, Assessment of symptoms like fever, inflammation or fatigue. \n",
    "\n",
    "10. Unspecified acute kidney failure:\n",
    "Foundational data: \"max bun: 101, max creatinine: 5.8, avg bun: 38.15, avg creatinine: 2.78\"\n",
    "Further tests: Urine output measurements for oliguria, ultrasound to rule out obstruction\n",
    "\n",
    "11. Presence of left artificial shoulder joint\n",
    "Foundational data: The imaging report mentions: \"Status post left total shoulder replacement\"\n",
    "\n",
    "Further diseases based on these diagnoses (continued the indexing from the previous number in the list):\n",
    "\n",
    "12: Unspecified septicemia\n",
    "Foundational data: positive MRSA screen, systemic inflammatory response: \"max respiration rate: 29\", \"max temperature: 38\", leukocytosis\n",
    "Further tests: HR, BP, wound culture, respiratory excretion tests\n",
    "\n",
    "13: Septic shock\n",
    "Foundational data: Septicemia with acidosis and lactic acidosis may suggest septic shock\n",
    "Further tests: patient examination (low BP, mental disorientation, nausea, pale skin may confirm the finding)\n",
    "\n",
    "14: Acute respiratory failure, with hypoxia or hypercapnia\n",
    "Foundational data: hypoxemia and the presence of atelectasis\n",
    "Further tests: Clinical symptoms (severe shortness of breath, rapid breathing, and confusion), \\\n",
    "arterial blood gas measurements showing hypoxia or hypercapnia\n",
    "\n",
    "15: Type 2 diabetes mellitus with diabetic chronic kidney disease\n",
    "Foundational data: Hyperglycemia and kidney failure\n",
    "Further tests: urine test, hemoglobin (A1C) test, GFR, BP, physical examination (swelling, nausea, weakness, eye disease)'''\n",
    "\n",
    "patient_data = '''\n",
    "\n",
    "Patient data:\\n'''"
   ]
  },
  {
   "cell_type": "code",
   "execution_count": null,
   "id": "386a63d4-b8e7-46d8-a1b3-a2eda984fdf9",
   "metadata": {
    "tags": []
   },
   "outputs": [
    {
     "name": "stderr",
     "output_type": "stream",
     "text": [
      "  0%|          | 0/1000 [00:00<?, ?it/s]/var/tmp/ipykernel_5427/336345106.py:9: FutureWarning: Setting an item of incompatible dtype is deprecated and will raise an error in a future version of pandas. Value ' 1: Unspecified acute kidney failure:\n",
      "Foundational data: \"max bun: 25, max creatinine: 1.2, avg bun: 18.8, avg creatinine: 1.08\"\n",
      "Further tests: Urine output measurements for oliguria, ultrasound to rule out obstruction\n",
      "\n",
      "2: Type 2 diabetes mellitus with diabetic chronic kidney disease\n",
      "Foundational data: Hyperglycemia and kidney failure\n",
      "Further tests: urine test, hemoglobin (A1c) test, GFR, BP, physical examination (swelling, nausea, weakness, eye disease)\n",
      "\n",
      "3: Coronary artery bypass grafting\n",
      "Foundational data: Imaging report mentions \"s/p CABG\" (status post coronary artery bypass grafting)\n",
      "\n",
      "4: Atelectasis \n",
      "Foundational data from Chest X-Ray: \"minimal left atelectasis\", \"minimal bibasal atelectasis\", \"bibasal areas of atelectasis are present\"\n",
      "Further tests: Bronchoscopy, CT chest\n",
      "\n",
      "5: Pleural effusion, not elsewhere classified\n",
      "Foundational data from Chest X-Ray: \"Minimal amount of bilateral pleural effusion is noted\"\n",
      "Further tests: Thoracentesis, CT chest\n",
      "\n",
      "6: Hypoxemia\n",
      "Foundational data: \"min peripheral oxygen saturation: 93\"\n",
      "Further tests: Measure PaO2 in blood\n",
      "\n",
      "7: Leukocytosis\n",
      "Foundational data: \"max wbc: 19.5, avg wbc: 15.08\". The patient's white blood cell count is consistently elevated which may suggest an ongoing inflammatory response or infection.\n",
      "Further tests: Infection markers such as CRP or PCT, Assessment of symptoms like fever, inflammation or fatigue. \n",
      "\n",
      "8: Hyperglycemia, unspecified\n",
      "Foundational data: \"max glucose: 142, avg glucose: 128\".\n",
      "Further tests: Hemoglobin A1c (HbA1c) test\n",
      "\n",
      "9: Acidosis\n",
      "Foundational data: \"ph: 7.32\", \"ph: 7.36\", \"ph: 7.36\"\n",
      "Further tests: Urine pH, Anion Gap\n",
      "\n",
      "10: Lactic acidosis\n",
      "Foundational data: \"max lactate: 1.9\"\n",
      "\n",
      "11: Acquired coagulation factor deficiency\n",
      "Foundational data: \"max inr: 1.3, max pt: 14.1, max ptt: 28.2\"\n",
      "Further tests: Antiphospholipid Antibodies (APL), Protein C, Protein S, Antithrombin III, Factor V Leiden, Fibrinogen test\n",
      "\n",
      "12: Unspecified septicemia\n",
      "Foundational data: systemic inflammatory response: \"max respiration rate: 26\", \"max temperature: 37.11\", leukocytosis\n",
      "Further tests: HR, BP, wound culture, respiratory excretion tests\n",
      "\n",
      "13: Septic shock\n",
      "Foundational data: Septicemia with acidosis and lactic acidosis may suggest septic shock\n",
      "Further tests: patient examination (low BP, mental disorientation, nausea, pale skin may confirm the finding)\n",
      "\n",
      "14: Acute respiratory failure, with hypoxia or hypercapnia\n",
      "Foundational data: hypoxemia and the presence of atelectasis\n",
      "Further tests: Clinical symptoms (severe shortness of breath, rapid breathing, and confusion), arterial blood gas measurements showing hypoxia or hypercapnia\n",
      "\n",
      "15: Coronary artery disease\n",
      "Foundational data: The patient underwent coronary artery bypass grafting (CABG) which is a surgical procedure to treat coronary artery disease.\n",
      "\n",
      "16: Postoperative status\n",
      "Foundational data: The patient underwent coronary artery bypass grafting (CABG) which is a surgical procedure.' has dtype incompatible with float64, please explicitly cast to a compatible dtype first.\n",
      "  result_df.loc[hadm_id, 'GPT-Diagnoses'] = response.text\n",
      "100%|██████████| 1000/1000 [6:52:24<00:00, 24.74s/it]  \n"
     ]
    }
   ],
   "source": [
    "repeat = []\n",
    "for i in tqdm(range(0,1000)):\n",
    "    try:\n",
    "        response = model.predict(\n",
    "            prompt_no_example + example + patient_data + str(result_df.iloc[i]['GPT_input']),\n",
    "            **parameters\n",
    "        )\n",
    "        hadm_id = result_df.index[i]\n",
    "        result_df.loc[hadm_id, 'GPT-Diagnoses'] = response.text\n",
    "    except Exception as e: \n",
    "        print('Error happened at iteration i: ' + str(i))\n",
    "        repeat.append(i)\n",
    "        print(e)\n",
    "        \n",
    "result_df.to_csv('MedLMresult.csv')"
   ]
  },
  {
   "cell_type": "code",
   "execution_count": null,
   "id": "64d43129-19fa-417a-95e4-b9b912849869",
   "metadata": {
    "tags": []
   },
   "outputs": [],
   "source": []
  },
  {
   "cell_type": "code",
   "execution_count": 6,
   "id": "6d289616-4867-48ae-bfe4-b22733878766",
   "metadata": {},
   "outputs": [],
   "source": [
    "result_df = pd.read_csv('MedLMresult.csv')"
   ]
  },
  {
   "cell_type": "code",
   "execution_count": 7,
   "id": "23ca6e11-db2a-4fbd-8bb0-efae8b62845b",
   "metadata": {
    "tags": []
   },
   "outputs": [
    {
     "data": {
      "text/html": [
       "<div>\n",
       "<style scoped>\n",
       "    .dataframe tbody tr th:only-of-type {\n",
       "        vertical-align: middle;\n",
       "    }\n",
       "\n",
       "    .dataframe tbody tr th {\n",
       "        vertical-align: top;\n",
       "    }\n",
       "\n",
       "    .dataframe thead th {\n",
       "        text-align: right;\n",
       "    }\n",
       "</style>\n",
       "<table border=\"1\" class=\"dataframe\">\n",
       "  <thead>\n",
       "    <tr style=\"text-align: right;\">\n",
       "      <th></th>\n",
       "      <th>hadm_id</th>\n",
       "      <th>diagnoses</th>\n",
       "      <th>GPT_input</th>\n",
       "      <th>GPT-Diagnoses</th>\n",
       "      <th>GPT-Eval</th>\n",
       "    </tr>\n",
       "  </thead>\n",
       "  <tbody>\n",
       "    <tr>\n",
       "      <th>1</th>\n",
       "      <td>21277425</td>\n",
       "      <td>1:Sepsis, unspecified organism\\n2:Other pancyt...</td>\n",
       "      <td>Blood report: \\nThe patient stayed in the hosp...</td>\n",
       "      <td>NaN</td>\n",
       "      <td>NaN</td>\n",
       "    </tr>\n",
       "    <tr>\n",
       "      <th>273</th>\n",
       "      <td>20789093</td>\n",
       "      <td>1:Malignant neoplasm of thyroid gland\\n2:Secon...</td>\n",
       "      <td>Blood report: \\nThe patient stayed in the hosp...</td>\n",
       "      <td>NaN</td>\n",
       "      <td>NaN</td>\n",
       "    </tr>\n",
       "    <tr>\n",
       "      <th>352</th>\n",
       "      <td>26157783</td>\n",
       "      <td>1:Hypertensive chronic kidney disease, unspeci...</td>\n",
       "      <td>Blood report: \\nThe patient stayed in the hosp...</td>\n",
       "      <td>NaN</td>\n",
       "      <td>NaN</td>\n",
       "    </tr>\n",
       "    <tr>\n",
       "      <th>622</th>\n",
       "      <td>26964436</td>\n",
       "      <td>1:Hypertensive heart and chronic kidney diseas...</td>\n",
       "      <td>Blood report: \\nThe patient stayed in the hosp...</td>\n",
       "      <td>NaN</td>\n",
       "      <td>NaN</td>\n",
       "    </tr>\n",
       "    <tr>\n",
       "      <th>650</th>\n",
       "      <td>26571936</td>\n",
       "      <td>1:Epilepsy, unspecified, not intractable, with...</td>\n",
       "      <td>Blood report: \\nThe patient stayed in the hosp...</td>\n",
       "      <td>NaN</td>\n",
       "      <td>NaN</td>\n",
       "    </tr>\n",
       "    <tr>\n",
       "      <th>913</th>\n",
       "      <td>23537160</td>\n",
       "      <td>1:Septicemia due to escherichia coli [E. coli]...</td>\n",
       "      <td>Blood report: \\nThe patient stayed in the hosp...</td>\n",
       "      <td>NaN</td>\n",
       "      <td>NaN</td>\n",
       "    </tr>\n",
       "    <tr>\n",
       "      <th>967</th>\n",
       "      <td>28195894</td>\n",
       "      <td>1:Erythema nodosum\\n2:Acute on chronic diastol...</td>\n",
       "      <td>Blood report: \\nThe patient stayed in the hosp...</td>\n",
       "      <td>NaN</td>\n",
       "      <td>NaN</td>\n",
       "    </tr>\n",
       "  </tbody>\n",
       "</table>\n",
       "</div>"
      ],
      "text/plain": [
       "      hadm_id                                          diagnoses  \\\n",
       "1    21277425  1:Sepsis, unspecified organism\\n2:Other pancyt...   \n",
       "273  20789093  1:Malignant neoplasm of thyroid gland\\n2:Secon...   \n",
       "352  26157783  1:Hypertensive chronic kidney disease, unspeci...   \n",
       "622  26964436  1:Hypertensive heart and chronic kidney diseas...   \n",
       "650  26571936  1:Epilepsy, unspecified, not intractable, with...   \n",
       "913  23537160  1:Septicemia due to escherichia coli [E. coli]...   \n",
       "967  28195894  1:Erythema nodosum\\n2:Acute on chronic diastol...   \n",
       "\n",
       "                                             GPT_input GPT-Diagnoses  GPT-Eval  \n",
       "1    Blood report: \\nThe patient stayed in the hosp...           NaN       NaN  \n",
       "273  Blood report: \\nThe patient stayed in the hosp...           NaN       NaN  \n",
       "352  Blood report: \\nThe patient stayed in the hosp...           NaN       NaN  \n",
       "622  Blood report: \\nThe patient stayed in the hosp...           NaN       NaN  \n",
       "650  Blood report: \\nThe patient stayed in the hosp...           NaN       NaN  \n",
       "913  Blood report: \\nThe patient stayed in the hosp...           NaN       NaN  \n",
       "967  Blood report: \\nThe patient stayed in the hosp...           NaN       NaN  "
      ]
     },
     "execution_count": 7,
     "metadata": {},
     "output_type": "execute_result"
    }
   ],
   "source": [
    "result_df.loc[result_df['GPT-Diagnoses'].isna(),:]"
   ]
  },
  {
   "cell_type": "code",
   "execution_count": 21,
   "id": "9708badb-337f-467b-9eb1-a040279e406b",
   "metadata": {
    "tags": []
   },
   "outputs": [
    {
     "name": "stderr",
     "output_type": "stream",
     "text": [
      "100%|██████████| 7/7 [02:23<00:00, 20.51s/it]\n"
     ]
    }
   ],
   "source": [
    "repeat = result_df.loc[result_df['GPT-Diagnoses'].isna(),:].index.tolist()\n",
    "for i in tqdm(repeat):\n",
    "    try:\n",
    "        response = model.predict(\n",
    "            prompt_no_example + example + patient_data + str(result_df.iloc[i]['GPT_input']),\n",
    "            **parameters\n",
    "        )\n",
    "        hadm_id = result_df.index[i]\n",
    "        result_df.loc[hadm_id, 'GPT-Diagnoses'] = response.text\n",
    "    except Exception as e: \n",
    "        print('Error happened at iteration i: ' + str(i))\n",
    "        repeat.append(i)\n",
    "        print(e)"
   ]
  },
  {
   "cell_type": "code",
   "execution_count": 23,
   "id": "02eab154-87f3-43d1-9dd8-2eb2c96be89e",
   "metadata": {
    "tags": []
   },
   "outputs": [],
   "source": [
    "result_df.to_csv('MedLMresult.csv')"
   ]
  },
  {
   "cell_type": "code",
   "execution_count": null,
   "id": "8428c931-0171-43f3-b23a-f465314b009f",
   "metadata": {},
   "outputs": [],
   "source": []
  }
 ],
 "metadata": {
  "environment": {
   "kernel": "conda-root-py",
   "name": "workbench-notebooks.m119",
   "type": "gcloud",
   "uri": "us-docker.pkg.dev/deeplearning-platform-release/gcr.io/workbench-notebooks:m119"
  },
  "kernelspec": {
   "display_name": "Python 3 (ipykernel)",
   "language": "python",
   "name": "python3"
  },
  "language_info": {
   "codemirror_mode": {
    "name": "ipython",
    "version": 3
   },
   "file_extension": ".py",
   "mimetype": "text/x-python",
   "name": "python",
   "nbconvert_exporter": "python",
   "pygments_lexer": "ipython3",
   "version": "3.7.16"
  }
 },
 "nbformat": 4,
 "nbformat_minor": 5
}
