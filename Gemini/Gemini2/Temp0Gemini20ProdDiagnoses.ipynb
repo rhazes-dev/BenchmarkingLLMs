{
 "cells": [
  {
   "cell_type": "code",
   "execution_count": 1,
   "id": "b379ac15-fb3a-420a-b52c-a45107304f62",
   "metadata": {},
   "outputs": [],
   "source": [
    "import pandas as pd\n",
    "import numpy as np\n",
    "from tqdm import tqdm\n",
    "\n",
    "result_df = pd.read_csv('PaLM2input.csv', index_col=0)"
   ]
  },
  {
   "cell_type": "code",
   "execution_count": 2,
   "id": "570965da-e316-48df-94b5-957726da69ef",
   "metadata": {},
   "outputs": [],
   "source": [
    "result_df['GPT_input'] = result_df['GPT_input'].str.replace('minimum', 'min')\n",
    "result_df['GPT_input'] = result_df['GPT_input'].str.replace('maximum', 'max')\n",
    "result_df['GPT_input'] = result_df['GPT_input'].str.replace('average', 'avg')\n",
    "result_df['GPT_input'] = result_df['GPT_input'].str.replace('maxntprobnp', 'max ntprobnp')"
   ]
  },
  {
   "cell_type": "code",
   "execution_count": 3,
   "id": "a57485b0-dad5-4a5c-abc6-96b2a4dfbaed",
   "metadata": {},
   "outputs": [],
   "source": [
    "result_df['GPT-Diagnoses'] = np.nan\n",
    "result_df['GPT-Eval'] = np.nan"
   ]
  },
  {
   "cell_type": "code",
   "execution_count": 4,
   "id": "b0f63035-5a40-4b6a-bb43-11a8cd435777",
   "metadata": {},
   "outputs": [],
   "source": [
    "import vertexai\n",
    "\n",
    "vertexai.init(project=\"n8n-copilot\", location=\"us-central1\")"
   ]
  },
  {
   "cell_type": "code",
   "execution_count": 5,
   "id": "288a758b-472f-428a-b52e-2e1ab868960e",
   "metadata": {},
   "outputs": [],
   "source": [
    "# from vertexai.preview.language_models import TextGenerationModel\n",
    "# parameters = {\n",
    "#     \"temperature\": 0.2,\n",
    "#     \"max_output_tokens\": 8192,\n",
    "#     \"top_p\": 0.8,\n",
    "#     \"top_k\": 40\n",
    "# }\n",
    "# model = TextGenerationModel.from_pretrained(\"medlm-medium\")"
   ]
  },
  {
   "cell_type": "code",
   "execution_count": 6,
   "id": "0bdd76d7-da4a-404d-a494-a70ea30470e7",
   "metadata": {},
   "outputs": [],
   "source": [
    "from vertexai.preview.generative_models import GenerativeModel\n",
    "\n",
    "multimodal_model = GenerativeModel(\"gemini-2.0-flash\")"
   ]
  },
  {
   "cell_type": "code",
   "execution_count": 7,
   "id": "1c36e2e8-ca5a-43a8-a9a5-e225de37c446",
   "metadata": {},
   "outputs": [],
   "source": [
    "config = {\n",
    "        \"temperature\": 0\n",
    "    }"
   ]
  },
  {
   "cell_type": "code",
   "execution_count": 8,
   "id": "e18d1c4f-0112-423c-b18a-b8f74a03513c",
   "metadata": {},
   "outputs": [],
   "source": [
    "res = multimodal_model.generate_content(\n",
    "        ['Give me a plan for a 4-day holiday in Mayrhofen'], generation_config=config)"
   ]
  },
  {
   "cell_type": "code",
   "execution_count": 9,
   "id": "f052e415-f7d3-487d-be91-5b781b762daf",
   "metadata": {},
   "outputs": [
    {
     "name": "stdout",
     "output_type": "stream",
     "text": [
      "Okay, here's a plan for a 4-day holiday in Mayrhofen, Austria, in May.  Keep in mind that May is a shoulder season, so some attractions might have limited hours or be closed.  It's always best to check specific opening times closer to your travel dates. This plan balances outdoor activities with relaxation and cultural experiences.\n",
      "\n",
      "**Assumptions:**\n",
      "\n",
      "*   You enjoy hiking and outdoor activities.\n",
      "*   You are comfortable using public transportation (buses and trains).\n",
      "*   You are interested in experiencing local culture.\n",
      "*   You are arriving in Mayrhofen on Day 1 and departing on Day 4.\n",
      "\n",
      "**Day 1: Arrival and Mayrhofen Exploration**\n",
      "\n",
      "*   **Morning (Arrival):**\n",
      "    *   Arrive at Innsbruck Airport (INN).  Take the train to Jenbach (approx. 30 minutes). From Jenbach, take the Zillertalbahn train to Mayrhofen (approx. 30 minutes).  Alternatively, you can arrange a private transfer from the airport directly to Mayrhofen.\n",
      "    *   Check into your accommodation.  Consider hotels like ElisabethHotel Premium Private Retreat, Hotel Neue Post, or Strass Hotel.  Guesthouses and apartments are also good options.\n",
      "*   **Afternoon:**\n",
      "    *   **Explore Mayrhofen Village:**  Take a stroll through the town center.  Visit the Parish Church of Mayrhofen, browse the shops, and get your bearings.\n",
      "    *   **Leisurely Lunch:** Enjoy a traditional Austrian lunch at a local restaurant. Try \"Tiroler Gröstl\" (a potato and meat dish) or \"Käsespätzle\" (cheese noodles).\n",
      "*   **Evening:**\n",
      "    *   **Dinner:**  Enjoy dinner at a restaurant with a view.  Many restaurants offer outdoor seating in May.\n",
      "    *   **Relaxation:**  Enjoy a drink at a bar or relax at your hotel.\n",
      "\n",
      "**Day 2: Hiking and Zillertal Views**\n",
      "\n",
      "*   **Morning:**\n",
      "    *   **Penkenbahn Ascent:** Take the Penkenbahn gondola up to Mount Penken.  Enjoy the panoramic views of the Zillertal Alps.\n",
      "    *   **Hiking:** Choose a hike suitable for your fitness level.  Some options include:\n",
      "        *   **Panorama Trail:** A relatively easy trail with stunning views.\n",
      "        *   **Filzenalm:** A moderate hike to a traditional alpine hut.\n",
      "        *   **Harikiri Ride:** A thrilling mountain bike trail (if you're an experienced mountain biker).\n",
      "*   **Afternoon:**\n",
      "    *   **Lunch at a Mountain Hut:**  Enjoy lunch at a mountain hut (\"Hütte\") on Penken.  Try traditional Austrian dishes like \"Kaiserschmarrn\" (shredded pancake).\n",
      "    *   **Paragliding (Optional):** If you're feeling adventurous, consider paragliding from Penken.\n",
      "*   **Evening:**\n",
      "    *   **Dinner:**  Enjoy dinner at a restaurant in Mayrhofen.\n",
      "    *   **Mayrhofen's Adventure Pool:** Relax and unwind at the Mayrhofen Adventure Pool.\n",
      "\n",
      "**Day 3:  Achensee Lake and Steam Train**\n",
      "\n",
      "*   **Morning:**\n",
      "    *   **Zillertalbahn to Jenbach:** Take the Zillertalbahn train from Mayrhofen to Jenbach.\n",
      "    *   **Achensee Lake:** From Jenbach, take the Achenseebahn, a historic cog railway, up to Lake Achensee.\n",
      "*   **Afternoon:**\n",
      "    *   **Achensee Lake Cruise:** Take a boat trip on Lake Achensee.  Enjoy the stunning scenery of the surrounding mountains.\n",
      "    *   **Pertisau:** Explore the village of Pertisau on the shores of Lake Achensee.  Have lunch at a lakeside restaurant.\n",
      "*   **Evening:**\n",
      "    *   **Return to Mayrhofen:** Take the Achenseebahn back to Jenbach, then the Zillertalbahn back to Mayrhofen.\n",
      "    *   **Dinner:** Enjoy dinner at a restaurant in Mayrhofen.\n",
      "\n",
      "**Day 4:  Zillertal Glacier and Departure**\n",
      "\n",
      "*   **Morning:**\n",
      "    *   **Hintertux Glacier:** Take a bus from Mayrhofen to Hintertux.\n",
      "    *   **Glacier Experience:** Ascend to the Hintertux Glacier.  Even in May, you'll find snow and ice.  Visit the Ice Palace (a natural ice cave), enjoy the views from the Panorama Terrace, and perhaps do some skiing or snowboarding (if conditions permit).\n",
      "*   **Afternoon:**\n",
      "    *   **Lunch at the Glacier:** Have lunch at a restaurant on the glacier.\n",
      "    *   **Return to Mayrhofen:** Take the bus back to Mayrhofen.\n",
      "*   **Evening:**\n",
      "    *   **Departure:** Depending on your flight schedule, take the Zillertalbahn to Jenbach and then the train to Innsbruck Airport, or arrange a private transfer.\n",
      "\n",
      "**Important Considerations and Tips:**\n",
      "\n",
      "*   **Weather:** May in the Alps can be unpredictable. Pack layers of clothing, including waterproof gear. Check the weather forecast daily.\n",
      "*   **Opening Times:** Confirm the opening times of attractions, gondolas, and restaurants before you go, as May is a shoulder season.\n",
      "*   **Zillertal Activcard:** Consider purchasing the Zillertal Activcard. It provides free access to many attractions, including gondolas, swimming pools, and public transportation.\n",
      "*   **Hiking Boots:** Wear sturdy hiking boots for any hiking activities.\n",
      "*   **Sun Protection:** Even on cloudy days, the sun can be strong at high altitudes. Use sunscreen, sunglasses, and a hat.\n",
      "*   **Reservations:** Make reservations for popular restaurants, especially for dinner.\n",
      "*   **Currency:** The currency in Austria is the Euro (€).\n",
      "*   **Language:** German is the official language. English is widely spoken in tourist areas.\n",
      "*   **Transportation:** The Zillertalbahn is a convenient way to travel between towns in the Zillertal Valley. Buses are also available.\n",
      "\n",
      "**Possible Alternatives/Adjustments:**\n",
      "\n",
      "*   **If the weather is bad:** Visit the ErlebnisSennerei Zillertal (a cheese dairy), the Strass Museum, or spend more time relaxing at your hotel.\n",
      "*   **For families with children:**  Consider visiting the Spieljochbahn in Fügen (a nearby town) which has a fun adventure playground.\n",
      "*   **For experienced hikers:**  Explore more challenging trails in the Zillertal Alps.\n",
      "\n",
      "Enjoy your trip to Mayrhofen!\n",
      "\n"
     ]
    }
   ],
   "source": [
    "print(res.candidates[0].content.parts[0].text)"
   ]
  },
  {
   "cell_type": "code",
   "execution_count": 10,
   "id": "f13af611-0465-45bf-92ce-add4f7b32175",
   "metadata": {},
   "outputs": [],
   "source": [
    "prompt_no_example = '''You are an expert diagnostician machine for use by doctors. If the user input is not patient data, you politely decline the request. Please suggest diagnoses and conditions, followed by the evidence points supporting each diagnosis in the form of bullet points. Include previous diagnoses and pertinent information about the patient's medical history (if any). Pay close attention to all the history and investigations provided.  Put asterisks around the diagnoses to highlight them. Give each evidence points as a separate bullet point beneath the diagnosis. Include in your evidence points any relevant clinical scores that can be calculated from the information I have given. Do not explain the evidence points, only state them. For every diagnosis you list, if there are alternative differentials possible, state the most likely three in a bullet point beneath the evidence points (you do not need to state the evidence supporting them - you only need to do that for the main diagnoses). For the main diagnoses, give only confirmed diagnoses and evidence points that can be inferred solely based on the information I have given - do not use any other information. Only give me the information I have asked for - do not give me any other information. Do not give me any introductions or conclusions, safety instructions, or safety warnings. Use British English.\n",
    "\n",
    "                                To illustrate how the information should be presented:\n",
    "\n",
    "                                *MAIN DIAGNOSIS 1 AS HEADING*\n",
    "                                evidence points to support MAIN DIAGNOSIS 1\n",
    "                                The final bullet point is alternative differentials to consider: alternative 1, alternative 2, alternative 3\n",
    "\n",
    "                                *MAIN DIAGNOSIS 2 AS HEADING*\n",
    "                                evidence points to support MAIN DIAGNOSIS 2\n",
    "                                The final bullet point is alternative differentials to consider: alternative 1, alternative 2, alternative 3\n",
    "\n",
    "                                and so on...\n",
    "\n",
    "Before finalising your answer check if you haven't missed any abnormal data points and hence any diagnoses or alternative differentials that could be made based on them. If you did, add them to your reply. If two diagnoses are commonly caused by the same underlying disease, have them under one header, which is the underlying disease.\n",
    "'''\n",
    "\n",
    "example = ''''''\n",
    "\n",
    "patient_data = '''\n",
    "\n",
    "Patient data:\\n'''"
   ]
  },
  {
   "cell_type": "code",
   "execution_count": null,
   "id": "96547b16-ca5c-47fa-9c39-37ea67fb3190",
   "metadata": {},
   "outputs": [
    {
     "name": "stderr",
     "output_type": "stream",
     "text": [
      " 10%|▉         | 97/1000 [04:59<47:56,  3.19s/it]  "
     ]
    }
   ],
   "source": [
    "repeat = []\n",
    "for i in tqdm(range(0,1000)):\n",
    "    try:\n",
    "        response = multimodal_model.generate_content(\n",
    "            [prompt_no_example + example + patient_data + result_df.iloc[i]['GPT_input']], generation_config=config\n",
    "        )\n",
    "        hadm_id = result_df.index[i]\n",
    "        result_df.loc[hadm_id, 'GPT-Diagnoses'] = response.candidates[0].content.parts[0].text\n",
    "    except Exception as e: \n",
    "        print('Error happened at iteration i: ' + str(i))\n",
    "        repeat.append(i)\n",
    "        print(e)"
   ]
  },
  {
   "cell_type": "code",
   "execution_count": null,
   "id": "73749654-a773-4fff-a0d9-71b5505b50d6",
   "metadata": {},
   "outputs": [],
   "source": [
    "for i in tqdm(repeat):\n",
    "    try:\n",
    "        response = multimodal_model.generate_content(\n",
    "            [prompt_no_example + example + patient_data + result_df.iloc[i]['GPT_input']], generation_config=config\n",
    "        )\n",
    "        hadm_id = result_df.index[i]\n",
    "        result_df.loc[hadm_id, 'GPT-Diagnoses'] = response.candidates[0].content.parts[0].text\n",
    "    except Exception as e: \n",
    "        print('Error happened at iteration i: ' + str(i))\n",
    "        print(e)"
   ]
  },
  {
   "cell_type": "code",
   "execution_count": null,
   "id": "60f96454-3b7f-4c36-9db1-f3b5ef006696",
   "metadata": {},
   "outputs": [],
   "source": [
    "result_df.to_csv('Temp0Gemini20Prod.csv')"
   ]
  },
  {
   "cell_type": "code",
   "execution_count": 15,
   "id": "dde711b1-a1f6-4794-845d-6ebbdb7f300f",
   "metadata": {},
   "outputs": [],
   "source": [
    "result_df = pd.read_csv('Temp0Gemini20Prod.csv')"
   ]
  },
  {
   "cell_type": "code",
   "execution_count": 18,
   "id": "cc720bcf-cb40-4e61-a491-8300239dc5d6",
   "metadata": {},
   "outputs": [
    {
     "data": {
      "text/plain": [
       "1"
      ]
     },
     "execution_count": 18,
     "metadata": {},
     "output_type": "execute_result"
    }
   ],
   "source": [
    "result_df['GPT-Diagnoses'].isna().sum()"
   ]
  },
  {
   "cell_type": "code",
   "execution_count": 19,
   "id": "5258e411-6a0d-4484-894e-5e362c2395aa",
   "metadata": {},
   "outputs": [
    {
     "data": {
      "text/html": [
       "<div>\n",
       "<style scoped>\n",
       "    .dataframe tbody tr th:only-of-type {\n",
       "        vertical-align: middle;\n",
       "    }\n",
       "\n",
       "    .dataframe tbody tr th {\n",
       "        vertical-align: top;\n",
       "    }\n",
       "\n",
       "    .dataframe thead th {\n",
       "        text-align: right;\n",
       "    }\n",
       "</style>\n",
       "<table border=\"1\" class=\"dataframe\">\n",
       "  <thead>\n",
       "    <tr style=\"text-align: right;\">\n",
       "      <th></th>\n",
       "      <th>hadm_id</th>\n",
       "      <th>diagnoses</th>\n",
       "      <th>GPT_input</th>\n",
       "      <th>GPT-Diagnoses</th>\n",
       "      <th>GPT-Eval</th>\n",
       "    </tr>\n",
       "  </thead>\n",
       "  <tbody>\n",
       "    <tr>\n",
       "      <th>240</th>\n",
       "      <td>21115325</td>\n",
       "      <td>1:Benign neoplasm of cerebral meninges\\n2:Cere...</td>\n",
       "      <td>Blood report: \\nThe patient stayed in the hosp...</td>\n",
       "      <td>NaN</td>\n",
       "      <td>NaN</td>\n",
       "    </tr>\n",
       "  </tbody>\n",
       "</table>\n",
       "</div>"
      ],
      "text/plain": [
       "      hadm_id                                          diagnoses  \\\n",
       "240  21115325  1:Benign neoplasm of cerebral meninges\\n2:Cere...   \n",
       "\n",
       "                                             GPT_input GPT-Diagnoses  GPT-Eval  \n",
       "240  Blood report: \\nThe patient stayed in the hosp...           NaN       NaN  "
      ]
     },
     "execution_count": 19,
     "metadata": {},
     "output_type": "execute_result"
    }
   ],
   "source": [
    "result_df.loc[result_df['GPT-Diagnoses'].isna(),:]"
   ]
  },
  {
   "cell_type": "code",
   "execution_count": 22,
   "id": "44e04b8e-eed0-49f1-b238-8c7ac5affcd8",
   "metadata": {},
   "outputs": [
    {
     "name": "stderr",
     "output_type": "stream",
     "text": [
      "100%|██████████| 1/1 [00:02<00:00,  2.00s/it]"
     ]
    },
    {
     "name": "stdout",
     "output_type": "stream",
     "text": [
      "Error happened at iteration i: 240\n",
      "list index out of range\n"
     ]
    },
    {
     "name": "stderr",
     "output_type": "stream",
     "text": [
      "\n"
     ]
    }
   ],
   "source": [
    "repeat = []\n",
    "for i in tqdm([240]):\n",
    "    try:\n",
    "        response = multimodal_model.generate_content(\n",
    "            [prompt_no_example + example + patient_data + result_df.iloc[i]['GPT_input']], generation_config=config\n",
    "        )\n",
    "        hadm_id = result_df.index[i]\n",
    "        result_df.loc[hadm_id, 'GPT-Diagnoses'] = response.candidates[0].content.parts[0].text\n",
    "    except Exception as e: \n",
    "        print('Error happened at iteration i: ' + str(i))\n",
    "        repeat.append(i)\n",
    "        print(e)"
   ]
  },
  {
   "cell_type": "code",
   "execution_count": 36,
   "id": "934d14f1-8d15-4a30-8d37-9beb48bd3951",
   "metadata": {},
   "outputs": [],
   "source": [
    "response = multimodal_model.generate_content(\n",
    "            [prompt_no_example + example + patient_data + result_df.iloc[i]['GPT_input']], generation_config=config\n",
    "        )"
   ]
  },
  {
   "cell_type": "code",
   "execution_count": 37,
   "id": "09c49c57-2b98-4647-a848-c9f1ddedc8e0",
   "metadata": {},
   "outputs": [
    {
     "data": {
      "text/plain": [
       "candidates {\n",
       "  content {\n",
       "  }\n",
       "  finish_reason: RECITATION\n",
       "  citation_metadata {\n",
       "    citations {\n",
       "      start_index: 987\n",
       "      end_index: 1114\n",
       "      title: \"Comprehensive Handbook of Alcohol Related Pathology\"\n",
       "    }\n",
       "  }\n",
       "}\n",
       "usage_metadata {\n",
       "  prompt_token_count: 1962\n",
       "  total_token_count: 1962\n",
       "}"
      ]
     },
     "execution_count": 37,
     "metadata": {},
     "output_type": "execute_result"
    }
   ],
   "source": [
    "response"
   ]
  },
  {
   "cell_type": "code",
   "execution_count": 42,
   "id": "c8706f8a-ba06-41fc-b734-6910dda7eab5",
   "metadata": {},
   "outputs": [],
   "source": [
    "hadm_id = result_df.index[i]\n",
    "result_df.loc[hadm_id, 'GPT-Diagnoses'] = 'Model declined to answer due to recitation'"
   ]
  },
  {
   "cell_type": "code",
   "execution_count": 43,
   "id": "fe958a67-2aa4-43c5-95a1-13ee299ae290",
   "metadata": {},
   "outputs": [],
   "source": [
    "result_df.to_csv('Temp0Gemini20Prod.csv')"
   ]
  },
  {
   "cell_type": "code",
   "execution_count": null,
   "id": "0edeb8c1-545e-4a6e-8bd4-da6f386066b1",
   "metadata": {},
   "outputs": [],
   "source": []
  }
 ],
 "metadata": {
  "environment": {
   "kernel": "python3",
   "name": "common-cpu.m109",
   "type": "gcloud",
   "uri": "gcr.io/deeplearning-platform-release/base-cpu:m109"
  },
  "kernelspec": {
   "display_name": "Python 3",
   "language": "python",
   "name": "python3"
  },
  "language_info": {
   "codemirror_mode": {
    "name": "ipython",
    "version": 3
   },
   "file_extension": ".py",
   "mimetype": "text/x-python",
   "name": "python",
   "nbconvert_exporter": "python",
   "pygments_lexer": "ipython3",
   "version": "3.10.11"
  }
 },
 "nbformat": 4,
 "nbformat_minor": 5
}
