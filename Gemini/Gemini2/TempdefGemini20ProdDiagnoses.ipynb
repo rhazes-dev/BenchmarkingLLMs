{
 "cells": [
  {
   "cell_type": "code",
   "execution_count": 1,
   "id": "b379ac15-fb3a-420a-b52c-a45107304f62",
   "metadata": {},
   "outputs": [],
   "source": [
    "import pandas as pd\n",
    "import numpy as np\n",
    "from tqdm import tqdm\n",
    "\n",
    "result_df = pd.read_csv('PaLM2input.csv', index_col=0)"
   ]
  },
  {
   "cell_type": "code",
   "execution_count": 2,
   "id": "570965da-e316-48df-94b5-957726da69ef",
   "metadata": {},
   "outputs": [],
   "source": [
    "result_df['GPT_input'] = result_df['GPT_input'].str.replace('minimum', 'min')\n",
    "result_df['GPT_input'] = result_df['GPT_input'].str.replace('maximum', 'max')\n",
    "result_df['GPT_input'] = result_df['GPT_input'].str.replace('average', 'avg')\n",
    "result_df['GPT_input'] = result_df['GPT_input'].str.replace('maxntprobnp', 'max ntprobnp')"
   ]
  },
  {
   "cell_type": "code",
   "execution_count": 3,
   "id": "a57485b0-dad5-4a5c-abc6-96b2a4dfbaed",
   "metadata": {},
   "outputs": [],
   "source": [
    "result_df['GPT-Diagnoses'] = np.nan\n",
    "result_df['GPT-Eval'] = np.nan"
   ]
  },
  {
   "cell_type": "code",
   "execution_count": 4,
   "id": "b0f63035-5a40-4b6a-bb43-11a8cd435777",
   "metadata": {},
   "outputs": [],
   "source": [
    "import vertexai\n",
    "\n",
    "vertexai.init(project=\"n8n-copilot\", location=\"us-central1\")"
   ]
  },
  {
   "cell_type": "code",
   "execution_count": 5,
   "id": "288a758b-472f-428a-b52e-2e1ab868960e",
   "metadata": {},
   "outputs": [],
   "source": [
    "# from vertexai.preview.language_models import TextGenerationModel\n",
    "# parameters = {\n",
    "#     \"temperature\": 0.2,\n",
    "#     \"max_output_tokens\": 8192,\n",
    "#     \"top_p\": 0.8,\n",
    "#     \"top_k\": 40\n",
    "# }\n",
    "# model = TextGenerationModel.from_pretrained(\"medlm-medium\")"
   ]
  },
  {
   "cell_type": "code",
   "execution_count": 6,
   "id": "0bdd76d7-da4a-404d-a494-a70ea30470e7",
   "metadata": {},
   "outputs": [],
   "source": [
    "from vertexai.preview.generative_models import GenerativeModel\n",
    "\n",
    "multimodal_model = GenerativeModel(\"gemini-2.0-flash\")"
   ]
  },
  {
   "cell_type": "code",
   "execution_count": 6,
   "id": "1c36e2e8-ca5a-43a8-a9a5-e225de37c446",
   "metadata": {},
   "outputs": [],
   "source": [
    "# config = {\n",
    "#         \"temperature\": 0\n",
    "#     }"
   ]
  },
  {
   "cell_type": "code",
   "execution_count": 7,
   "id": "e18d1c4f-0112-423c-b18a-b8f74a03513c",
   "metadata": {},
   "outputs": [],
   "source": [
    "res = multimodal_model.generate_content(\n",
    "        ['Give me a plan for a 4-day holiday in Mayrhofen'])"
   ]
  },
  {
   "cell_type": "code",
   "execution_count": 8,
   "id": "f052e415-f7d3-487d-be91-5b781b762daf",
   "metadata": {},
   "outputs": [
    {
     "name": "stdout",
     "output_type": "stream",
     "text": [
      "## 4-Day Mayrhofen Adventure: A Plan for May\n",
      "\n",
      "This plan focuses on experiencing the best of Mayrhofen, balancing outdoor activities with relaxation and local culture. It assumes you're arriving in Mayrhofen in the morning on Day 1 and departing in the late afternoon/evening on Day 4.\n",
      "\n",
      "**Theme:** Active Adventure & Alpine Charm\n",
      "\n",
      "**Accommodation:** This plan assumes you have pre-booked accommodation in Mayrhofen or a nearby village like Hippach or Finkenberg.\n",
      "\n",
      "**Key Considerations:**\n",
      "\n",
      "*   **Weather:** May can be unpredictable in the Alps. Pack layers, including waterproof clothing. Check the weather forecast daily.\n",
      "*   **Cable Car Operations:** Check the operating status of the cable cars before planning your day, as some may have limited hours or be closed for maintenance in the shoulder season.\n",
      "*   **Hiking Conditions:** Lower altitude hikes are generally good in May. Higher altitude trails might still have snow. Check trail reports before venturing out.\n",
      "*   **Tourist Crowds:** May is a quieter period than peak season, but some popular attractions can still be busy.\n",
      "\n",
      "**Day 1: Arrival & Village Exploration**\n",
      "\n",
      "*   **Morning (Arrival):** Arrive in Mayrhofen. Check into your accommodation.\n",
      "*   **Afternoon:**\n",
      "    *   **Explore Mayrhofen:** Wander through the village center. Visit the Parish Church of Mayrhofen, browse the shops, and soak in the atmosphere.\n",
      "    *   **Mayrhofen Adventure Park:** If you're feeling adventurous, head to the Adventure Park for some zip-lining, climbing, and obstacle courses (check opening hours).\n",
      "*   **Evening:**\n",
      "    *   **Traditional Dinner:** Enjoy a hearty Tyrolean dinner at a traditional restaurant like the Gasthof Restaurant Perauer or the Neue Post Hotel Restaurant. Sample local specialties like Kaspressknödel (cheese dumplings) or Tiroler Gröstl (fried potatoes with meat and eggs).\n",
      "\n",
      "**Day 2: Zillertal Alpine Road & Hintertux Glacier**\n",
      "\n",
      "*   **Morning:**\n",
      "    *   **Zillertal Alpine Road:** Take a scenic drive along the Zillertal Alpine Road. This panoramic road offers breathtaking views of the Zillertal Valley. Stop at viewpoints for photos and short hikes.\n",
      "*   **Afternoon:**\n",
      "    *   **Hintertux Glacier:** Continue your drive to Hintertux Glacier. Even in May, you can often ski or snowboard on the glacier. If you're not a skier, take the gondola up for the stunning panoramic views. Visit the Nature's Ice Palace, an amazing ice cave located inside the glacier (book tickets in advance).\n",
      "*   **Evening:**\n",
      "    *   **Relaxation:** Return to Mayrhofen and unwind.  Consider visiting the Erlebnisbad Mayrhofen, an adventure pool with slides and saunas.\n",
      "    *   **Dinner with a View:** Find a restaurant with mountain views for dinner, like the restaurant at the Hotel Kramerwirt.\n",
      "\n",
      "**Day 3: Penken Mountain Adventure**\n",
      "\n",
      "*   **Morning:**\n",
      "    *   **Penkenbahn Gondola:** Take the Penkenbahn gondola up to Penken Mountain.\n",
      "    *   **Hike & Views:** Explore the hiking trails on Penken. Choose a trail based on your fitness level and enjoy the panoramic views. The Filzenalm reservoir is a great spot for a short, easy hike.\n",
      "*   **Afternoon:**\n",
      "    *   **FunRide Gerlosstein:** Head down to the valley station of the Gerlossteinbahn cable car in Hainzenberg and take the cable car up to Gerlosstein. Here you can ride the \"FunRide Gerlosstein\", a rollercoaster-like ride on rails.\n",
      "*   **Evening:**\n",
      "    *   **Explore Hippach:** Take a short bus or taxi ride to the nearby village of Hippach.  It's a charming village with a more relaxed atmosphere than Mayrhofen.\n",
      "    *   **Local Beer & Food:** Enjoy dinner at a traditional Gasthof in Hippach and sample local beers.\n",
      "\n",
      "**Day 4: Ahornbahn & Departure**\n",
      "\n",
      "*   **Morning:**\n",
      "    *   **Ahornbahn Gondola:** Take the Ahornbahn gondola up to Ahorn Mountain.\n",
      "    *   **Chill & Views:** Ahorn is known for its more relaxed atmosphere. Enjoy the panoramic views from the Ahorn Plateau. Visit the Ahorn Eagle's Stage, where you can learn about and observe birds of prey.  Consider a gentle walk around the area.\n",
      "*   **Afternoon:**\n",
      "    *   **Optional: Climbing Arena:** If you're feeling adventurous and have climbing experience, visit the climbing arena on Ahorn.\n",
      "    *   **Lunch on Ahorn:** Enjoy lunch at one of the restaurants on Ahorn Mountain with breathtaking views.\n",
      "*   **Late Afternoon/Evening:**\n",
      "    *   **Souvenir Shopping:**  Do some last-minute souvenir shopping in Mayrhofen.\n",
      "    *   **Departure:** Depart from Mayrhofen.\n",
      "\n",
      "**Alternative Activities (Depending on Interests & Weather):**\n",
      "\n",
      "*   **Ziller Valley Railway:** Take a scenic train ride through the Zillertal Valley.\n",
      "*   **Swarovski Crystal Worlds:** A bit further afield, but worth a visit if you're interested in art and design.\n",
      "*   **White Water Rafting:** Several companies offer white water rafting trips on the Ziller River.\n",
      "*   **Paragliding:** Enjoy a tandem paragliding flight for a unique perspective of the Zillertal Valley.\n",
      "*   **Bike Rental:** Rent a bike and explore the valley on two wheels. Numerous cycling paths cater to different skill levels.\n",
      "*   **Spa Day:** Spend a relaxing day at a local spa, like the Erlebnisbad Mayrhofen or one of the hotel spas.\n",
      "\n",
      "**Tips for a Great Trip:**\n",
      "\n",
      "*   **Book Accommodations and Activities in Advance:** Especially during peak season, booking ahead is essential.\n",
      "*   **Purchase a Zillertal Activcard:** If you plan on using the cable cars and other attractions extensively, the Zillertal Activcard can save you money.\n",
      "*   **Learn a Few Basic German Phrases:** While many people in Mayrhofen speak English, knowing a few basic German phrases will be appreciated.\n",
      "*   **Pack for All Types of Weather:** May can be unpredictable, so be prepared for sunshine, rain, and even snow.\n",
      "*   **Take Advantage of the Local Tourist Information Center:** They can provide maps, trail information, and advice on activities and events.\n",
      "\n",
      "This itinerary provides a framework for your 4-day holiday in Mayrhofen. Feel free to adjust it based on your interests and preferences. Enjoy your trip!\n",
      "\n"
     ]
    }
   ],
   "source": [
    "print(res.candidates[0].content.parts[0].text)"
   ]
  },
  {
   "cell_type": "code",
   "execution_count": 9,
   "id": "f13af611-0465-45bf-92ce-add4f7b32175",
   "metadata": {},
   "outputs": [],
   "source": [
    "prompt_no_example = '''You are an expert diagnostician machine for use by doctors. If the user input is not patient data, you politely decline the request. Please suggest diagnoses and conditions, followed by the evidence points supporting each diagnosis in the form of bullet points. Include previous diagnoses and pertinent information about the patient's medical history (if any). Pay close attention to all the history and investigations provided.  Put asterisks around the diagnoses to highlight them. Give each evidence points as a separate bullet point beneath the diagnosis. Include in your evidence points any relevant clinical scores that can be calculated from the information I have given. Do not explain the evidence points, only state them. For every diagnosis you list, if there are alternative differentials possible, state the most likely three in a bullet point beneath the evidence points (you do not need to state the evidence supporting them - you only need to do that for the main diagnoses). For the main diagnoses, give only confirmed diagnoses and evidence points that can be inferred solely based on the information I have given - do not use any other information. Only give me the information I have asked for - do not give me any other information. Do not give me any introductions or conclusions, safety instructions, or safety warnings. Use British English.\n",
    "\n",
    "                                To illustrate how the information should be presented:\n",
    "\n",
    "                                *MAIN DIAGNOSIS 1 AS HEADING*\n",
    "                                evidence points to support MAIN DIAGNOSIS 1\n",
    "                                The final bullet point is alternative differentials to consider: alternative 1, alternative 2, alternative 3\n",
    "\n",
    "                                *MAIN DIAGNOSIS 2 AS HEADING*\n",
    "                                evidence points to support MAIN DIAGNOSIS 2\n",
    "                                The final bullet point is alternative differentials to consider: alternative 1, alternative 2, alternative 3\n",
    "\n",
    "                                and so on...\n",
    "\n",
    "Before finalising your answer check if you haven't missed any abnormal data points and hence any diagnoses or alternative differentials that could be made based on them. If you did, add them to your reply. If two diagnoses are commonly caused by the same underlying disease, have them under one header, which is the underlying disease.\n",
    "'''\n",
    "\n",
    "example = ''''''\n",
    "\n",
    "patient_data = '''\n",
    "\n",
    "Patient data:\\n'''"
   ]
  },
  {
   "cell_type": "code",
   "execution_count": 10,
   "id": "96547b16-ca5c-47fa-9c39-37ea67fb3190",
   "metadata": {},
   "outputs": [
    {
     "name": "stderr",
     "output_type": "stream",
     "text": [
      " 24%|██▍       | 241/1000 [10:26<33:25,  2.64s/it]  "
     ]
    },
    {
     "name": "stdout",
     "output_type": "stream",
     "text": [
      "Error happened at iteration i: 240\n",
      "list index out of range\n"
     ]
    },
    {
     "name": "stderr",
     "output_type": "stream",
     "text": [
      "100%|██████████| 1000/1000 [42:28<00:00,  2.55s/it]\n"
     ]
    }
   ],
   "source": [
    "repeat = []\n",
    "for i in tqdm(range(0,1000)):\n",
    "    try:\n",
    "        response = multimodal_model.generate_content(\n",
    "            [prompt_no_example + example + patient_data + result_df.iloc[i]['GPT_input']]\n",
    "        )\n",
    "        hadm_id = result_df.index[i]\n",
    "        result_df.loc[hadm_id, 'GPT-Diagnoses'] = response.candidates[0].content.parts[0].text\n",
    "    except Exception as e: \n",
    "        print('Error happened at iteration i: ' + str(i))\n",
    "        repeat.append(i)\n",
    "        print(e)"
   ]
  },
  {
   "cell_type": "code",
   "execution_count": 11,
   "id": "73749654-a773-4fff-a0d9-71b5505b50d6",
   "metadata": {},
   "outputs": [
    {
     "name": "stderr",
     "output_type": "stream",
     "text": [
      "100%|██████████| 1/1 [00:00<00:00, 2882.68it/s]"
     ]
    },
    {
     "name": "stdout",
     "output_type": "stream",
     "text": [
      "Error happened at iteration i: 240\n",
      "name 'config' is not defined\n"
     ]
    },
    {
     "name": "stderr",
     "output_type": "stream",
     "text": [
      "\n"
     ]
    }
   ],
   "source": [
    "for i in tqdm(repeat):\n",
    "    try:\n",
    "        response = multimodal_model.generate_content(\n",
    "            [prompt_no_example + example + patient_data + result_df.iloc[i]['GPT_input']], generation_config=config\n",
    "        )\n",
    "        hadm_id = result_df.index[i]\n",
    "        result_df.loc[hadm_id, 'GPT-Diagnoses'] = response.candidates[0].content.parts[0].text\n",
    "    except Exception as e: \n",
    "        print('Error happened at iteration i: ' + str(i))\n",
    "        print(e)"
   ]
  },
  {
   "cell_type": "code",
   "execution_count": 13,
   "id": "dde711b1-a1f6-4794-845d-6ebbdb7f300f",
   "metadata": {},
   "outputs": [
    {
     "data": {
      "text/plain": [
       "1"
      ]
     },
     "execution_count": 13,
     "metadata": {},
     "output_type": "execute_result"
    }
   ],
   "source": [
    "result_df['GPT-Diagnoses'].isna().sum()"
   ]
  },
  {
   "cell_type": "code",
   "execution_count": 14,
   "id": "23d40b1f-5ec6-45cf-979a-7f3dcc022e5b",
   "metadata": {},
   "outputs": [],
   "source": [
    "hadm_id = result_df.index[i]\n",
    "result_df.loc[hadm_id, 'GPT-Diagnoses'] = 'Model declined to answer due to recitation'"
   ]
  },
  {
   "cell_type": "code",
   "execution_count": 15,
   "id": "60f96454-3b7f-4c36-9db1-f3b5ef006696",
   "metadata": {},
   "outputs": [],
   "source": [
    "result_df.to_csv('TempdefGemini20Prod.csv')"
   ]
  },
  {
   "cell_type": "code",
   "execution_count": null,
   "id": "f941fe04-5a7e-4b7d-bca3-b442fa264ab0",
   "metadata": {},
   "outputs": [],
   "source": []
  }
 ],
 "metadata": {
  "environment": {
   "kernel": "python3",
   "name": "common-cpu.m109",
   "type": "gcloud",
   "uri": "gcr.io/deeplearning-platform-release/base-cpu:m109"
  },
  "kernelspec": {
   "display_name": "Python 3",
   "language": "python",
   "name": "python3"
  },
  "language_info": {
   "codemirror_mode": {
    "name": "ipython",
    "version": 3
   },
   "file_extension": ".py",
   "mimetype": "text/x-python",
   "name": "python",
   "nbconvert_exporter": "python",
   "pygments_lexer": "ipython3",
   "version": "3.10.11"
  }
 },
 "nbformat": 4,
 "nbformat_minor": 5
}
