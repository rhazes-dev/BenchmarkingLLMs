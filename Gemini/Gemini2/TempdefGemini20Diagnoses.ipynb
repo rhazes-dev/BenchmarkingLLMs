{
 "cells": [
  {
   "cell_type": "code",
   "execution_count": 1,
   "id": "b379ac15-fb3a-420a-b52c-a45107304f62",
   "metadata": {},
   "outputs": [],
   "source": [
    "import pandas as pd\n",
    "import numpy as np\n",
    "from tqdm import tqdm\n",
    "\n",
    "result_df = pd.read_csv('PaLM2input.csv', index_col=0)"
   ]
  },
  {
   "cell_type": "code",
   "execution_count": 2,
   "id": "570965da-e316-48df-94b5-957726da69ef",
   "metadata": {},
   "outputs": [],
   "source": [
    "result_df['GPT_input'] = result_df['GPT_input'].str.replace('minimum', 'min')\n",
    "result_df['GPT_input'] = result_df['GPT_input'].str.replace('maximum', 'max')\n",
    "result_df['GPT_input'] = result_df['GPT_input'].str.replace('average', 'avg')\n",
    "result_df['GPT_input'] = result_df['GPT_input'].str.replace('maxntprobnp', 'max ntprobnp')"
   ]
  },
  {
   "cell_type": "code",
   "execution_count": 3,
   "id": "a57485b0-dad5-4a5c-abc6-96b2a4dfbaed",
   "metadata": {},
   "outputs": [],
   "source": [
    "result_df['GPT-Diagnoses'] = np.nan\n",
    "result_df['GPT-Eval'] = np.nan"
   ]
  },
  {
   "cell_type": "code",
   "execution_count": 4,
   "id": "b0f63035-5a40-4b6a-bb43-11a8cd435777",
   "metadata": {},
   "outputs": [],
   "source": [
    "import vertexai\n",
    "\n",
    "vertexai.init(project=\"n8n-copilot\", location=\"us-central1\")"
   ]
  },
  {
   "cell_type": "code",
   "execution_count": 5,
   "id": "288a758b-472f-428a-b52e-2e1ab868960e",
   "metadata": {},
   "outputs": [],
   "source": [
    "# from vertexai.preview.language_models import TextGenerationModel\n",
    "# parameters = {\n",
    "#     \"temperature\": 0.2,\n",
    "#     \"max_output_tokens\": 8192,\n",
    "#     \"top_p\": 0.8,\n",
    "#     \"top_k\": 40\n",
    "# }\n",
    "# model = TextGenerationModel.from_pretrained(\"medlm-medium\")"
   ]
  },
  {
   "cell_type": "code",
   "execution_count": 9,
   "id": "0bdd76d7-da4a-404d-a494-a70ea30470e7",
   "metadata": {},
   "outputs": [],
   "source": [
    "from vertexai.preview.generative_models import GenerativeModel\n",
    "\n",
    "multimodal_model = GenerativeModel(\"gemini-2.0-flash\")"
   ]
  },
  {
   "cell_type": "code",
   "execution_count": 6,
   "id": "1c36e2e8-ca5a-43a8-a9a5-e225de37c446",
   "metadata": {},
   "outputs": [],
   "source": [
    "# config = {\n",
    "#         \"temperature\": 0\n",
    "#     }"
   ]
  },
  {
   "cell_type": "code",
   "execution_count": 10,
   "id": "e18d1c4f-0112-423c-b18a-b8f74a03513c",
   "metadata": {},
   "outputs": [],
   "source": [
    "res = multimodal_model.generate_content(\n",
    "        ['Give me a plan for a 4-day holiday in Mayrhofen'])"
   ]
  },
  {
   "cell_type": "code",
   "execution_count": 12,
   "id": "f052e415-f7d3-487d-be91-5b781b762daf",
   "metadata": {},
   "outputs": [
    {
     "name": "stdout",
     "output_type": "stream",
     "text": [
      "## 4-Day Mayrhofen Adventure in May\n",
      "\n",
      "This plan focuses on a mix of hiking, relaxation, and enjoying the Zillertal valley.  Remember that May weather can be unpredictable, so pack layers and be prepared for both sunshine and possible rain.\n",
      "\n",
      "**Day 1: Arrival and Mayrhofen Exploration**\n",
      "\n",
      "*   **Morning (Arrival):**\n",
      "    *   Arrive at Mayrhofen. Check into your hotel/guesthouse. (Consider options like Hotel Elisabeth, Hotel Neue Post, or a charming Guesthouse like Landhaus Carla).\n",
      "    *   Leave your luggage and grab a quick lunch at a local bakery (e.g., Bäckerei Kostenzer) or a traditional Austrian restaurant (e.g., Gasthof Brücke).\n",
      "*   **Afternoon:**\n",
      "    *   Explore Mayrhofen town center. Walk along Hauptstraße (Main Street), browse the shops, and soak in the atmosphere.\n",
      "    *   Visit the **Mayrhofen Parish Church**, known for its beautiful architecture.\n",
      "    *   Ride the **Penkenbahn cable car** up to the Penken mountain. Enjoy the panoramic views and take a short, easy hike around the summit.\n",
      "*   **Evening:**\n",
      "    *   Enjoy a traditional Tyrolean dinner at one of Mayrhofen's many restaurants. Try **Gasthof Rose** for local cuisine and a cozy atmosphere or **Restaurant Alpenstuben** for a more refined experience.\n",
      "    *   Enjoy a drink at a local bar like **Mo's Essbar** for some après-ski vibes (even if there's no snow!).\n",
      "\n",
      "**Day 2:  Hike to the Olpererhütte & Suspension Bridge**\n",
      "\n",
      "*   **Morning:**\n",
      "    *   Have a hearty breakfast at your accommodation or a local cafe.\n",
      "    *   Take the bus from Mayrhofen to **Ginzling**.\n",
      "*   **Full Day (Hike):**\n",
      "    *   Hike from Ginzling to the **Olpererhütte** (approx. 3-4 hours uphill, depending on your fitness level). This is a beautiful but moderately challenging hike.\n",
      "    *   Enjoy the stunning views of the **Schlegeis Stausee (Schlegeis Reservoir)** and the surrounding glaciers from the Olpererhütte.\n",
      "    *   Brave the **Suspension Bridge** next to the Olpererhütte for incredible photo opportunities.\n",
      "    *   Have lunch at the Olpererhütte, enjoying traditional Tyrolean food.\n",
      "    *   Hike back down to Ginzling (allow ample time for the descent).\n",
      "*   **Evening:**\n",
      "    *   Take the bus back to Mayrhofen.\n",
      "    *   Relax and have dinner at your hotel or try a different restaurant in town.  Perhaps **Restaurant Schneekarhutte** for Austrian specialties.\n",
      "\n",
      "**Day 3: Achensee Lake & Steam Train Adventure**\n",
      "\n",
      "*   **Morning:**\n",
      "    *   Take the Zillertalbahn train from Mayrhofen to Jenbach (approx. 45 minutes).\n",
      "*   **Full Day:**\n",
      "    *   In Jenbach, take the historic **Achenseebahn**, a cogwheel steam train, up to Lake Achensee.  This is a scenic and unique experience.\n",
      "    *   Enjoy a boat trip on **Lake Achensee**, the largest lake in Tyrol.  Admire the stunning mountain scenery and turquoise waters.\n",
      "    *   Explore the charming villages around the lake, such as **Pertisau** or **Achenkirch**.  Have lunch at a lakeside restaurant with beautiful views.\n",
      "    *   Optional: Take a hike around the lake or visit the **Notburga Museum** in Pertisau.\n",
      "*   **Evening:**\n",
      "    *   Take the Achenseebahn back down to Jenbach.\n",
      "    *   Take the Zillertalbahn back to Mayrhofen.\n",
      "    *   Enjoy dinner in Mayrhofen. Consider **Papa Joe's Bar & Restaurant** for a more international flavor.\n",
      "\n",
      "**Day 4: Relaxation & Departure**\n",
      "\n",
      "*   **Morning:**\n",
      "    *   Enjoy a leisurely breakfast.\n",
      "    *   Visit the **Erlebnisbad Mayrhofen**, a leisure pool with slides and saunas.  Perfect for a relaxing morning.\n",
      "    *   Alternatively, take a short hike on one of the easier trails around Mayrhofen, such as the **Zemmschlucht (Zemm Gorge)**.\n",
      "*   **Afternoon:**\n",
      "    *   Enjoy a final lunch in Mayrhofen.\n",
      "    *   Do some souvenir shopping.\n",
      "    *   Depart from Mayrhofen.\n",
      "\n",
      "**Possible Alternatives and Considerations:**\n",
      "\n",
      "*   **If the weather is bad:**\n",
      "    *   Visit the **Swarovski Crystal Worlds** in Wattens (easily accessible by train).\n",
      "    *   Explore the **Zillertal Dairy** and learn about cheese making.\n",
      "    *   Spend more time at the Erlebnisbad Mayrhofen.\n",
      "*   **For more experienced hikers:**\n",
      "    *   Consider the challenging hike to the **Greizer Hütte**.\n",
      "    *   Take the **Finkenberger Almbahnen** to explore the Finkenberg area.\n",
      "*   **For families with children:**\n",
      "    *   Visit the **Erlebnis Sennerei Zillertal** (adventure dairy).\n",
      "    *   Take the **Arena Coaster** in Zell am Ziller.\n",
      "*   **May events:**  Check the local Mayrhofen event calendar for any festivals or special events happening during your visit.\n",
      "*   **Zillertal Activcard:** Consider purchasing a Zillertal Activcard for free or discounted access to many attractions, cable cars, and public transportation.\n",
      "\n",
      "**Important Notes:**\n",
      "\n",
      "*   **Book accommodation and transportation in advance,** especially during peak season.\n",
      "*   **Check the operating schedules of cable cars and attractions** before you go.\n",
      "*   **Wear appropriate hiking shoes and clothing** for all hikes.\n",
      "*   **Bring sunscreen, sunglasses, and a hat** to protect yourself from the sun.\n",
      "*   **Carry enough water and snacks** for your hikes.\n",
      "*   **Be aware of the weather conditions** and adjust your plans accordingly.\n",
      "\n",
      "Enjoy your trip to Mayrhofen!  The Zillertal valley is a beautiful and diverse region with something to offer everyone.\n",
      "\n"
     ]
    }
   ],
   "source": [
    "print(res.candidates[0].content.parts[0].text)"
   ]
  },
  {
   "cell_type": "code",
   "execution_count": 13,
   "id": "f13af611-0465-45bf-92ce-add4f7b32175",
   "metadata": {},
   "outputs": [],
   "source": [
    "prompt_no_example = '''Suggest as many potential diagnoses as possible from the following patient data.\n",
    "In addition, include previously diagnosed conditions and information about patient's medical history (if any). \n",
    "Give exact numbers and/or text quotes from the data that made you think of each of the diagnoses \\\n",
    "and, if necessary, give further tests that could confirm the diagnosis. \n",
    "Once you're done, suggest further, more complex diseases that may be ongoing based on the existing diagnoses you already made. \n",
    "Use the International Classification of Disease (ICD) naming standard for reporting the diagnoses, but you don't have to specify the codes.\n",
    "Adhere to the formatting in the example below.\n",
    "\n",
    "Before finalizing your answer check if you haven't missed any abnormal data points and hence any diagnoses that could be made \\\n",
    "based on them. If you did, add them to your list of diagnoses.'''\n",
    "\n",
    "example = '''\n",
    "\n",
    "For example, if the patient data mentions:\n",
    "\n",
    "\"Blood report: \n",
    "min glucose: 103, max glucose: 278, avg glucose: 156.5, max inr: 2.1, max pt: 22.4, max ptt: 150, \\\n",
    "avg wbc: 13.8, max wbc: 14.1, max lactate: 5.9, max bun: 101, max creatinine: 5.8, avg bun: 38.15, avg creatinine: 2.78\n",
    "Blood gas report: \n",
    "3 hours after admission the blood gas results from venous blood are: ph: 7.2\n",
    "Imaging report: \n",
    "Status post left total shoulder replacement\n",
    "Chest X-Ray Possible small right pleural effusion and Mild, bibasilar atelectasis.. \\\n",
    "Lung volumes have slightly increased but areas of atelectasis are seen at both the left and the right lung bases\n",
    "Microbiology tests: \n",
    "24 hours after admission the microbiology culture test MRSA SCREEN obtained via MRSA SCREEN \\\n",
    "identified POSITIVE FOR METHICILLIN RESISTANT STAPH AUREUS\n",
    "Vitalsigns data from ICU: \n",
    "max temperature: 38, min peripheral oxygen saturation: 70, max respiration rate: 29\"\n",
    "\n",
    "then your answer may be: \n",
    "\n",
    "1: Methicillin resistant Staphylococcus aureus infection, site unspecified\n",
    "Foundational data: Microbiology culture test identifying \"POSITIVE FOR METHICILLIN RESISTANT STAPH AUREUS\"\n",
    "\n",
    "2: Atelectasis \n",
    "Foundational data from Chest X-Ray: \"Mild, bibasilar atelectasis.. \\\n",
    "Lung volumes have slightly increased but areas of atelectasis are seen at both the left and the right lung bases\"\n",
    "\n",
    "3: Pleural effusion, not elsewhere classified\n",
    "Foundational data from Chest X-Ray: \"Possible small right pleural effusion.\"\n",
    "Further tests: Thoracentesis, CT chest\n",
    "\n",
    "4: Acidosis\n",
    "Foundational data: \"ph: 7.2\"\n",
    "Further tests: Urine pH, Anion Gap\n",
    "\n",
    "5: Lactic acidosis\n",
    "Foundational data: \"max lactate: 5.9\"\n",
    "\n",
    "6: Acquired coagulation factor deficiency\n",
    "Foundational data: \"max inr: 2.1, max pt: 22.4, max ptt: 150\"\n",
    "Further tests: Antiphospholipid Antibodies (APL), Protein C, Protein S, Antithrombin III, Factor V Leiden, Fibrinogen test\n",
    "\n",
    "7: Hyperglycemia, unspecified\n",
    "Foundational data: \"max glucose: 278, avg glucose: 156.5\".\n",
    "Further tests: Hemoglobin A1c (HbA1c) test\n",
    "\n",
    "8: Hypoxemia\n",
    "Foundational data: \"min peripheral oxygen saturation: 70\"\n",
    "Further tests: Measure PaO2 in blood\n",
    "\n",
    "9: Leukocytosis\n",
    "Foundational data: \"max wbc: 14.1, avg wbc: 13.8\". The patient's white blood cell count is consistently elevated which may suggest an ongoing inflammatory response or infection.\n",
    "Further tests: Infection markers such as CRP or PCT, Assessment of symptoms like fever, inflammation or fatigue. \n",
    "\n",
    "10. Unspecified acute kidney failure:\n",
    "Foundational data: \"max bun: 101, max creatinine: 5.8, avg bun: 38.15, avg creatinine: 2.78\"\n",
    "Further tests: Urine output measurements for oliguria, ultrasound to rule out obstruction\n",
    "\n",
    "11. Presence of left artificial shoulder joint\n",
    "Foundational data: The imaging report mentions: \"Status post left total shoulder replacement\"\n",
    "\n",
    "Further diseases based on these diagnoses (continued the indexing from the previous number in the list):\n",
    "\n",
    "12: Unspecified septicemia\n",
    "Foundational data: positive MRSA screen, systemic inflammatory response: \"max respiration rate: 29\", \"max temperature: 38\", leukocytosis\n",
    "Further tests: HR, BP, wound culture, respiratory excretion tests\n",
    "\n",
    "13: Septic shock\n",
    "Foundational data: Septicemia with acidosis and lactic acidosis may suggest septic shock\n",
    "Further tests: patient examination (low BP, mental disorientation, nausea, pale skin may confirm the finding)\n",
    "\n",
    "14: Acute respiratory failure, with hypoxia or hypercapnia\n",
    "Foundational data: hypoxemia and the presence of atelectasis\n",
    "Further tests: Clinical symptoms (severe shortness of breath, rapid breathing, and confusion), \\\n",
    "arterial blood gas measurements showing hypoxia or hypercapnia\n",
    "\n",
    "15: Type 2 diabetes mellitus with diabetic chronic kidney disease\n",
    "Foundational data: Hyperglycemia and kidney failure\n",
    "Further tests: urine test, hemoglobin (A1C) test, GFR, BP, physical examination (swelling, nausea, weakness, eye disease)'''\n",
    "\n",
    "patient_data = '''\n",
    "\n",
    "Patient data:\\n'''"
   ]
  },
  {
   "cell_type": "code",
   "execution_count": 14,
   "id": "96547b16-ca5c-47fa-9c39-37ea67fb3190",
   "metadata": {},
   "outputs": [
    {
     "name": "stderr",
     "output_type": "stream",
     "text": [
      "100%|██████████| 1000/1000 [1:19:34<00:00,  4.77s/it]\n"
     ]
    }
   ],
   "source": [
    "repeat = []\n",
    "for i in tqdm(range(0,1000)):\n",
    "    try:\n",
    "        response = multimodal_model.generate_content(\n",
    "            [prompt_no_example + example + patient_data + result_df.iloc[i]['GPT_input']]\n",
    "        )\n",
    "        hadm_id = result_df.index[i]\n",
    "        result_df.loc[hadm_id, 'GPT-Diagnoses'] = response.candidates[0].content.parts[0].text\n",
    "    except Exception as e: \n",
    "        print('Error happened at iteration i: ' + str(i))\n",
    "        repeat.append(i)\n",
    "        print(e)"
   ]
  },
  {
   "cell_type": "code",
   "execution_count": 15,
   "id": "73749654-a773-4fff-a0d9-71b5505b50d6",
   "metadata": {},
   "outputs": [
    {
     "name": "stderr",
     "output_type": "stream",
     "text": [
      "0it [00:00, ?it/s]\n"
     ]
    }
   ],
   "source": [
    "for i in tqdm(repeat):\n",
    "    try:\n",
    "        response = multimodal_model.generate_content(\n",
    "            [prompt_no_example + example + patient_data + result_df.iloc[i]['GPT_input']], generation_config=config\n",
    "        )\n",
    "        hadm_id = result_df.index[i]\n",
    "        result_df.loc[hadm_id, 'GPT-Diagnoses'] = response.candidates[0].content.parts[0].text\n",
    "    except Exception as e: \n",
    "        print('Error happened at iteration i: ' + str(i))\n",
    "        print(e)"
   ]
  },
  {
   "cell_type": "code",
   "execution_count": 16,
   "id": "60f96454-3b7f-4c36-9db1-f3b5ef006696",
   "metadata": {},
   "outputs": [],
   "source": [
    "result_df.to_csv('TempdefGemini20.csv')"
   ]
  },
  {
   "cell_type": "code",
   "execution_count": null,
   "id": "dde711b1-a1f6-4794-845d-6ebbdb7f300f",
   "metadata": {},
   "outputs": [],
   "source": []
  }
 ],
 "metadata": {
  "environment": {
   "kernel": "python3",
   "name": "common-cpu.m109",
   "type": "gcloud",
   "uri": "gcr.io/deeplearning-platform-release/base-cpu:m109"
  },
  "kernelspec": {
   "display_name": "Python 3",
   "language": "python",
   "name": "python3"
  },
  "language_info": {
   "codemirror_mode": {
    "name": "ipython",
    "version": 3
   },
   "file_extension": ".py",
   "mimetype": "text/x-python",
   "name": "python",
   "nbconvert_exporter": "python",
   "pygments_lexer": "ipython3",
   "version": "3.10.11"
  }
 },
 "nbformat": 4,
 "nbformat_minor": 5
}
