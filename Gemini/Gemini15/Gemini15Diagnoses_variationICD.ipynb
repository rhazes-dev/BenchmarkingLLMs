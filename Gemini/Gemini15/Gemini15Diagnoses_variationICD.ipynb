{
 "cells": [
  {
   "cell_type": "code",
   "execution_count": 1,
   "id": "b379ac15-fb3a-420a-b52c-a45107304f62",
   "metadata": {},
   "outputs": [],
   "source": [
    "import pandas as pd\n",
    "import numpy as np\n",
    "from tqdm import tqdm\n",
    "\n",
    "result_df = pd.read_csv('PaLM2input.csv', index_col=0)"
   ]
  },
  {
   "cell_type": "code",
   "execution_count": 2,
   "id": "570965da-e316-48df-94b5-957726da69ef",
   "metadata": {},
   "outputs": [],
   "source": [
    "result_df['GPT_input'] = result_df['GPT_input'].str.replace('minimum', 'min')\n",
    "result_df['GPT_input'] = result_df['GPT_input'].str.replace('maximum', 'max')\n",
    "result_df['GPT_input'] = result_df['GPT_input'].str.replace('average', 'avg')\n",
    "result_df['GPT_input'] = result_df['GPT_input'].str.replace('maxntprobnp', 'max ntprobnp')"
   ]
  },
  {
   "cell_type": "code",
   "execution_count": 3,
   "id": "a57485b0-dad5-4a5c-abc6-96b2a4dfbaed",
   "metadata": {},
   "outputs": [],
   "source": [
    "result_df['GPT-Diagnoses'] = np.nan\n",
    "result_df['GPT-Eval'] = np.nan"
   ]
  },
  {
   "cell_type": "code",
   "execution_count": 4,
   "id": "b0f63035-5a40-4b6a-bb43-11a8cd435777",
   "metadata": {},
   "outputs": [],
   "source": [
    "import vertexai\n",
    "\n",
    "vertexai.init(project=\"n8n-copilot\", location=\"us-central1\")"
   ]
  },
  {
   "cell_type": "code",
   "execution_count": 5,
   "id": "288a758b-472f-428a-b52e-2e1ab868960e",
   "metadata": {},
   "outputs": [],
   "source": [
    "# from vertexai.preview.language_models import TextGenerationModel\n",
    "# parameters = {\n",
    "#     \"temperature\": 0.2,\n",
    "#     \"max_output_tokens\": 8192,\n",
    "#     \"top_p\": 0.8,\n",
    "#     \"top_k\": 40\n",
    "# }\n",
    "# model = TextGenerationModel.from_pretrained(\"medlm-medium\")"
   ]
  },
  {
   "cell_type": "code",
   "execution_count": 5,
   "id": "0bdd76d7-da4a-404d-a494-a70ea30470e7",
   "metadata": {},
   "outputs": [],
   "source": [
    "from vertexai.preview.generative_models import GenerativeModel\n",
    "\n",
    "multimodal_model = GenerativeModel(\"gemini-1.5-pro-preview-0409\")"
   ]
  },
  {
   "cell_type": "code",
   "execution_count": 6,
   "id": "1c36e2e8-ca5a-43a8-a9a5-e225de37c446",
   "metadata": {},
   "outputs": [],
   "source": [
    "config = {\n",
    "        \"temperature\": 0\n",
    "    }"
   ]
  },
  {
   "cell_type": "code",
   "execution_count": 7,
   "id": "e18d1c4f-0112-423c-b18a-b8f74a03513c",
   "metadata": {},
   "outputs": [],
   "source": [
    "res = multimodal_model.generate_content(\n",
    "        ['Give me a plan for a 4-day holiday in Mayrhofen'], generation_config=config)"
   ]
  },
  {
   "cell_type": "code",
   "execution_count": 9,
   "id": "f052e415-f7d3-487d-be91-5b781b762daf",
   "metadata": {},
   "outputs": [
    {
     "name": "stdout",
     "output_type": "stream",
     "text": [
      "## 4-Day Mayrhofen Holiday Plan:\n",
      "\n",
      "**Day 1 - Arrival & Village Exploration:**\n",
      "\n",
      "*   Arrive in Mayrhofen and check into your chosen accommodation. \n",
      "*   Take a stroll through the village center, familiarizing yourself with the layout, shops, and restaurants. \n",
      "*   Enjoy a delicious Austrian dinner at a local restaurant. \n",
      "*   If you have energy left, consider a relaxing evening swim at the Erlebnisbad Mayrhofen (indoor and outdoor pools with slides).\n",
      "\n",
      "**Day 2 - Ahorn Mountain Adventure:**\n",
      "\n",
      "*   Take the Ahornbahn cable car up Ahorn Mountain for breathtaking panoramic views.\n",
      "*   Visit the Ahornsee lake, rent a boat, or simply relax by the water.\n",
      "*   Enjoy lunch at the Ahornhütte restaurant with stunning mountain vistas.\n",
      "*   In the afternoon, choose from various activities like hiking, mountain biking, or paragliding (depending on your interests and skill level).\n",
      "*   Return to the village and enjoy a delicious dinner at a traditional Austrian Gasthof.\n",
      "\n",
      "**Day 3 - Penken Mountain & Action:**\n",
      "\n",
      "*   Take the Penkenbahn cable car up Penken Mountain, another peak with incredible views.\n",
      "*   Visit the Penken Park, a haven for mountain bikers with various trails and a bike park. \n",
      "*   For thrill-seekers, experience the via ferrata or the \"Fichtenschloss\" climbing park.\n",
      "*   Enjoy lunch at the Granatalm restaurant with panoramic views.\n",
      "*   In the afternoon, consider a visit to the ErlebnisSennerei Zillertal show dairy to learn about cheesemaking and enjoy local products.\n",
      "*   Head back to the village and experience Mayrhofen's nightlife.\n",
      "\n",
      "**Day 4 - Relaxation & Departure:**\n",
      "\n",
      "*   Enjoy a leisurely breakfast and some last-minute souvenir shopping.\n",
      "*   Relax at the Erlebnisbad Mayrhofen or take a walk along the Ziller River.\n",
      "*   Have a farewell lunch at a charming cafe.\n",
      "*   Depart from Mayrhofen with wonderful memories.\n",
      "\n",
      "**Additional Activities:**\n",
      "\n",
      "*   **Zillertalbahn:** Take a scenic train ride through the Zillertal Valley.\n",
      "*   **Hintertux Glacier:** Embark on a day trip to the Hintertux Glacier for year-round skiing and snowboarding.\n",
      "*   **Waterfalls:** Hike to nearby waterfalls like the Stilluptal Wasserfall or the Schleierfall.\n",
      "*   **Museums:** Explore local history and culture at the Zillertal Regional Museum or the ErlebnisSennerei Zillertal Dairy Museum.\n",
      "\n",
      "**Tips:**\n",
      "\n",
      "*   Purchase the Zillertal Activcard for discounts on cable cars, public transport, and various attractions.\n",
      "*   Pack for all types of weather, as mountain conditions can change quickly.\n",
      "*   Be sure to wear comfortable shoes suitable for walking and hiking.\n",
      "*   Make restaurant reservations in advance, especially during peak season.\n",
      "*   Don't forget to try local specialties like Tiroler Gröstl, Käsespätzle, and Apfelstrudel.\n",
      "\n",
      "**This itinerary is just a suggestion, and you can customize it based on your interests and preferences. Have a fantastic time in Mayrhofen!** \n",
      "\n"
     ]
    }
   ],
   "source": [
    "print(res.candidates[0].content.parts[0].text)"
   ]
  },
  {
   "cell_type": "code",
   "execution_count": 10,
   "id": "f13af611-0465-45bf-92ce-add4f7b32175",
   "metadata": {},
   "outputs": [],
   "source": [
    "prompt_no_example = '''Suggest as many potential diagnoses as possible from the following patient data.\n",
    "In addition, include previously diagnosed conditions and information about patient's medical history (if any). \n",
    "Give exact numbers and/or text quotes from the data that made you think of each of the diagnoses \\\n",
    "and, if necessary, give further tests that could confirm the diagnosis. \n",
    "Once you're done, suggest further, more complex diseases that may be ongoing based on the existing diagnoses you already made. \n",
    "Use the International Classification of Disease (ICD) standard for reporting the diagnoses.\n",
    "Adhere to the formatting in the example below.\n",
    "\n",
    "Before finalizing your answer check if you haven't missed any abnormal data points and hence any diagnoses that could be made \\\n",
    "based on them. If you did, add them to your list of diagnoses.'''\n",
    "\n",
    "example = '''\n",
    "\n",
    "For example, if the patient data mentions:\n",
    "\n",
    "\"Blood report: \n",
    "min glucose: 103, max glucose: 278, avg glucose: 156.5, max inr: 2.1, max pt: 22.4, max ptt: 150, \\\n",
    "avg wbc: 13.8, max wbc: 14.1, max lactate: 5.9, max bun: 101, max creatinine: 5.8, avg bun: 38.15, avg creatinine: 2.78\n",
    "Blood gas report: \n",
    "3 hours after admission the blood gas results from venous blood are: ph: 7.2\n",
    "Imaging report: \n",
    "Status post left total shoulder replacement\n",
    "Chest X-Ray Possible small right pleural effusion and Mild, bibasilar atelectasis.. \\\n",
    "Lung volumes have slightly increased but areas of atelectasis are seen at both the left and the right lung bases\n",
    "Microbiology tests: \n",
    "24 hours after admission the microbiology culture test MRSA SCREEN obtained via MRSA SCREEN \\\n",
    "identified POSITIVE FOR METHICILLIN RESISTANT STAPH AUREUS\n",
    "Vitalsigns data from ICU: \n",
    "max temperature: 38, min peripheral oxygen saturation: 70, max respiration rate: 29\"\n",
    "\n",
    "then your answer may be: \n",
    "\n",
    "1: Methicillin resistant Staphylococcus aureus infection, site unspecified\n",
    "Foundational data: Microbiology culture test identifying \"POSITIVE FOR METHICILLIN RESISTANT STAPH AUREUS\"\n",
    "\n",
    "2: Atelectasis \n",
    "Foundational data from Chest X-Ray: \"Mild, bibasilar atelectasis.. \\\n",
    "Lung volumes have slightly increased but areas of atelectasis are seen at both the left and the right lung bases\"\n",
    "\n",
    "3: Pleural effusion, not elsewhere classified\n",
    "Foundational data from Chest X-Ray: \"Possible small right pleural effusion.\"\n",
    "Further tests: Thoracentesis, CT chest\n",
    "\n",
    "4: Acidosis\n",
    "Foundational data: \"ph: 7.2\"\n",
    "Further tests: Urine pH, Anion Gap\n",
    "\n",
    "5: Lactic acidosis\n",
    "Foundational data: \"max lactate: 5.9\"\n",
    "\n",
    "6: Acquired coagulation factor deficiency\n",
    "Foundational data: \"max inr: 2.1, max pt: 22.4, max ptt: 150\"\n",
    "Further tests: Antiphospholipid Antibodies (APL), Protein C, Protein S, Antithrombin III, Factor V Leiden, Fibrinogen test\n",
    "\n",
    "7: Hyperglycemia, unspecified\n",
    "Foundational data: \"max glucose: 278, avg glucose: 156.5\".\n",
    "Further tests: Hemoglobin A1c (HbA1c) test\n",
    "\n",
    "8: Hypoxemia\n",
    "Foundational data: \"min peripheral oxygen saturation: 70\"\n",
    "Further tests: Measure PaO2 in blood\n",
    "\n",
    "9: Leukocytosis\n",
    "Foundational data: \"max wbc: 14.1, avg wbc: 13.8\". The patient's white blood cell count is consistently elevated which may suggest an ongoing inflammatory response or infection.\n",
    "Further tests: Infection markers such as CRP or PCT, Assessment of symptoms like fever, inflammation or fatigue. \n",
    "\n",
    "10. Unspecified acute kidney failure:\n",
    "Foundational data: \"max bun: 101, max creatinine: 5.8, avg bun: 38.15, avg creatinine: 2.78\"\n",
    "Further tests: Urine output measurements for oliguria, ultrasound to rule out obstruction\n",
    "\n",
    "11. Presence of left artificial shoulder joint\n",
    "Foundational data: The imaging report mentions: \"Status post left total shoulder replacement\"\n",
    "\n",
    "Further diseases based on these diagnoses (continued the indexing from the previous number in the list):\n",
    "\n",
    "12: Unspecified septicemia\n",
    "Foundational data: positive MRSA screen, systemic inflammatory response: \"max respiration rate: 29\", \"max temperature: 38\", leukocytosis\n",
    "Further tests: HR, BP, wound culture, respiratory excretion tests\n",
    "\n",
    "13: Septic shock\n",
    "Foundational data: Septicemia with acidosis and lactic acidosis may suggest septic shock\n",
    "Further tests: patient examination (low BP, mental disorientation, nausea, pale skin may confirm the finding)\n",
    "\n",
    "14: Acute respiratory failure, with hypoxia or hypercapnia\n",
    "Foundational data: hypoxemia and the presence of atelectasis\n",
    "Further tests: Clinical symptoms (severe shortness of breath, rapid breathing, and confusion), \\\n",
    "arterial blood gas measurements showing hypoxia or hypercapnia\n",
    "\n",
    "15: Type 2 diabetes mellitus with diabetic chronic kidney disease\n",
    "Foundational data: Hyperglycemia and kidney failure\n",
    "Further tests: urine test, hemoglobin (A1C) test, GFR, BP, physical examination (swelling, nausea, weakness, eye disease)'''\n",
    "\n",
    "patient_data = '''\n",
    "\n",
    "Patient data:\\n'''"
   ]
  },
  {
   "cell_type": "code",
   "execution_count": 11,
   "id": "96547b16-ca5c-47fa-9c39-37ea67fb3190",
   "metadata": {},
   "outputs": [
    {
     "name": "stderr",
     "output_type": "stream",
     "text": [
      " 17%|█▋        | 171/1000 [1:03:51<5:32:10, 24.04s/it]"
     ]
    },
    {
     "name": "stdout",
     "output_type": "stream",
     "text": [
      "Error happened at iteration i: 170\n",
      "429 Quota exceeded for quota metric 'requests to internal prediction API' and limit 'requests to internal prediction API per minute per region' of service 'aiplatform.googleapis.com' for consumer 'project_number:1013587719654'. [reason: \"RATE_LIMIT_EXCEEDED\"\n",
      "domain: \"googleapis.com\"\n",
      "metadata {\n",
      "  key: \"consumer\"\n",
      "  value: \"projects/1013587719654\"\n",
      "}\n",
      "metadata {\n",
      "  key: \"quota_limit\"\n",
      "  value: \"InternalPredictionRequestsPerMinutePerProjectPerRegion\"\n",
      "}\n",
      "metadata {\n",
      "  key: \"quota_limit_value\"\n",
      "  value: \"120000\"\n",
      "}\n",
      "metadata {\n",
      "  key: \"quota_location\"\n",
      "  value: \"us-central1\"\n",
      "}\n",
      "metadata {\n",
      "  key: \"quota_metric\"\n",
      "  value: \"aiplatform.googleapis.com/internal_prediction_requests\"\n",
      "}\n",
      "metadata {\n",
      "  key: \"service\"\n",
      "  value: \"aiplatform.googleapis.com\"\n",
      "}\n",
      ", links {\n",
      "  description: \"Request a higher quota limit.\"\n",
      "  url: \"https://cloud.google.com/docs/quota#requesting_higher_quota\"\n",
      "}\n",
      "]\n"
     ]
    },
    {
     "name": "stderr",
     "output_type": "stream",
     "text": [
      " 19%|█▉        | 194/1000 [1:11:57<4:38:57, 20.77s/it]"
     ]
    },
    {
     "name": "stdout",
     "output_type": "stream",
     "text": [
      "Error happened at iteration i: 193\n",
      "429 Quota exceeded for quota metric 'requests to internal prediction API' and limit 'requests to internal prediction API per minute per region' of service 'aiplatform.googleapis.com' for consumer 'project_number:1013587719654'. [reason: \"RATE_LIMIT_EXCEEDED\"\n",
      "domain: \"googleapis.com\"\n",
      "metadata {\n",
      "  key: \"consumer\"\n",
      "  value: \"projects/1013587719654\"\n",
      "}\n",
      "metadata {\n",
      "  key: \"quota_limit\"\n",
      "  value: \"InternalPredictionRequestsPerMinutePerProjectPerRegion\"\n",
      "}\n",
      "metadata {\n",
      "  key: \"quota_limit_value\"\n",
      "  value: \"120000\"\n",
      "}\n",
      "metadata {\n",
      "  key: \"quota_location\"\n",
      "  value: \"us-central1\"\n",
      "}\n",
      "metadata {\n",
      "  key: \"quota_metric\"\n",
      "  value: \"aiplatform.googleapis.com/internal_prediction_requests\"\n",
      "}\n",
      "metadata {\n",
      "  key: \"service\"\n",
      "  value: \"aiplatform.googleapis.com\"\n",
      "}\n",
      ", links {\n",
      "  description: \"Request a higher quota limit.\"\n",
      "  url: \"https://cloud.google.com/docs/quota#requesting_higher_quota\"\n",
      "}\n",
      "]\n"
     ]
    },
    {
     "name": "stderr",
     "output_type": "stream",
     "text": [
      " 28%|██▊       | 281/1000 [1:43:00<4:25:26, 22.15s/it]"
     ]
    },
    {
     "name": "stdout",
     "output_type": "stream",
     "text": [
      "Error happened at iteration i: 280\n",
      "429 Quota exceeded for quota metric 'requests to internal prediction API' and limit 'requests to internal prediction API per minute per region' of service 'aiplatform.googleapis.com' for consumer 'project_number:1013587719654'. [reason: \"RATE_LIMIT_EXCEEDED\"\n",
      "domain: \"googleapis.com\"\n",
      "metadata {\n",
      "  key: \"consumer\"\n",
      "  value: \"projects/1013587719654\"\n",
      "}\n",
      "metadata {\n",
      "  key: \"quota_limit\"\n",
      "  value: \"InternalPredictionRequestsPerMinutePerProjectPerRegion\"\n",
      "}\n",
      "metadata {\n",
      "  key: \"quota_limit_value\"\n",
      "  value: \"120000\"\n",
      "}\n",
      "metadata {\n",
      "  key: \"quota_location\"\n",
      "  value: \"us-central1\"\n",
      "}\n",
      "metadata {\n",
      "  key: \"quota_metric\"\n",
      "  value: \"aiplatform.googleapis.com/internal_prediction_requests\"\n",
      "}\n",
      "metadata {\n",
      "  key: \"service\"\n",
      "  value: \"aiplatform.googleapis.com\"\n",
      "}\n",
      ", links {\n",
      "  description: \"Request a higher quota limit.\"\n",
      "  url: \"https://cloud.google.com/docs/quota#requesting_higher_quota\"\n",
      "}\n",
      "]\n"
     ]
    },
    {
     "name": "stderr",
     "output_type": "stream",
     "text": [
      " 37%|███▋      | 371/1000 [2:17:01<2:52:22, 16.44s/it]"
     ]
    },
    {
     "name": "stdout",
     "output_type": "stream",
     "text": [
      "Error happened at iteration i: 370\n",
      "429 Quota exceeded for quota metric 'requests to internal prediction API' and limit 'requests to internal prediction API per minute per region' of service 'aiplatform.googleapis.com' for consumer 'project_number:1013587719654'. [reason: \"RATE_LIMIT_EXCEEDED\"\n",
      "domain: \"googleapis.com\"\n",
      "metadata {\n",
      "  key: \"consumer\"\n",
      "  value: \"projects/1013587719654\"\n",
      "}\n",
      "metadata {\n",
      "  key: \"quota_limit\"\n",
      "  value: \"InternalPredictionRequestsPerMinutePerProjectPerRegion\"\n",
      "}\n",
      "metadata {\n",
      "  key: \"quota_limit_value\"\n",
      "  value: \"120000\"\n",
      "}\n",
      "metadata {\n",
      "  key: \"quota_location\"\n",
      "  value: \"us-central1\"\n",
      "}\n",
      "metadata {\n",
      "  key: \"quota_metric\"\n",
      "  value: \"aiplatform.googleapis.com/internal_prediction_requests\"\n",
      "}\n",
      "metadata {\n",
      "  key: \"service\"\n",
      "  value: \"aiplatform.googleapis.com\"\n",
      "}\n",
      ", links {\n",
      "  description: \"Request a higher quota limit.\"\n",
      "  url: \"https://cloud.google.com/docs/quota#requesting_higher_quota\"\n",
      "}\n",
      "]\n"
     ]
    },
    {
     "name": "stderr",
     "output_type": "stream",
     "text": [
      " 38%|███▊      | 381/1000 [2:20:55<4:00:09, 23.28s/it]"
     ]
    },
    {
     "name": "stdout",
     "output_type": "stream",
     "text": [
      "Error happened at iteration i: 380\n",
      "429 Quota exceeded for quota metric 'requests to internal prediction API' and limit 'requests to internal prediction API per minute per region' of service 'aiplatform.googleapis.com' for consumer 'project_number:1013587719654'. [reason: \"RATE_LIMIT_EXCEEDED\"\n",
      "domain: \"googleapis.com\"\n",
      "metadata {\n",
      "  key: \"consumer\"\n",
      "  value: \"projects/1013587719654\"\n",
      "}\n",
      "metadata {\n",
      "  key: \"quota_limit\"\n",
      "  value: \"InternalPredictionRequestsPerMinutePerProjectPerRegion\"\n",
      "}\n",
      "metadata {\n",
      "  key: \"quota_limit_value\"\n",
      "  value: \"120000\"\n",
      "}\n",
      "metadata {\n",
      "  key: \"quota_location\"\n",
      "  value: \"us-central1\"\n",
      "}\n",
      "metadata {\n",
      "  key: \"quota_metric\"\n",
      "  value: \"aiplatform.googleapis.com/internal_prediction_requests\"\n",
      "}\n",
      "metadata {\n",
      "  key: \"service\"\n",
      "  value: \"aiplatform.googleapis.com\"\n",
      "}\n",
      ", links {\n",
      "  description: \"Request a higher quota limit.\"\n",
      "  url: \"https://cloud.google.com/docs/quota#requesting_higher_quota\"\n",
      "}\n",
      "]\n"
     ]
    },
    {
     "name": "stderr",
     "output_type": "stream",
     "text": [
      " 38%|███▊      | 384/1000 [2:22:00<3:53:17, 22.72s/it]"
     ]
    },
    {
     "name": "stdout",
     "output_type": "stream",
     "text": [
      "Error happened at iteration i: 383\n",
      "429 Quota exceeded for quota metric 'requests to internal prediction API' and limit 'requests to internal prediction API per minute per region' of service 'aiplatform.googleapis.com' for consumer 'project_number:1013587719654'. [reason: \"RATE_LIMIT_EXCEEDED\"\n",
      "domain: \"googleapis.com\"\n",
      "metadata {\n",
      "  key: \"consumer\"\n",
      "  value: \"projects/1013587719654\"\n",
      "}\n",
      "metadata {\n",
      "  key: \"quota_limit\"\n",
      "  value: \"InternalPredictionRequestsPerMinutePerProjectPerRegion\"\n",
      "}\n",
      "metadata {\n",
      "  key: \"quota_limit_value\"\n",
      "  value: \"120000\"\n",
      "}\n",
      "metadata {\n",
      "  key: \"quota_location\"\n",
      "  value: \"us-central1\"\n",
      "}\n",
      "metadata {\n",
      "  key: \"quota_metric\"\n",
      "  value: \"aiplatform.googleapis.com/internal_prediction_requests\"\n",
      "}\n",
      "metadata {\n",
      "  key: \"service\"\n",
      "  value: \"aiplatform.googleapis.com\"\n",
      "}\n",
      ", links {\n",
      "  description: \"Request a higher quota limit.\"\n",
      "  url: \"https://cloud.google.com/docs/quota#requesting_higher_quota\"\n",
      "}\n",
      "]\n"
     ]
    },
    {
     "name": "stderr",
     "output_type": "stream",
     "text": [
      " 39%|███▉      | 392/1000 [2:24:57<3:28:47, 20.60s/it]"
     ]
    },
    {
     "name": "stdout",
     "output_type": "stream",
     "text": [
      "Error happened at iteration i: 391\n",
      "429 Quota exceeded for quota metric 'requests to internal prediction API' and limit 'requests to internal prediction API per minute per region' of service 'aiplatform.googleapis.com' for consumer 'project_number:1013587719654'. [reason: \"RATE_LIMIT_EXCEEDED\"\n",
      "domain: \"googleapis.com\"\n",
      "metadata {\n",
      "  key: \"consumer\"\n",
      "  value: \"projects/1013587719654\"\n",
      "}\n",
      "metadata {\n",
      "  key: \"quota_limit\"\n",
      "  value: \"InternalPredictionRequestsPerMinutePerProjectPerRegion\"\n",
      "}\n",
      "metadata {\n",
      "  key: \"quota_limit_value\"\n",
      "  value: \"120000\"\n",
      "}\n",
      "metadata {\n",
      "  key: \"quota_location\"\n",
      "  value: \"us-central1\"\n",
      "}\n",
      "metadata {\n",
      "  key: \"quota_metric\"\n",
      "  value: \"aiplatform.googleapis.com/internal_prediction_requests\"\n",
      "}\n",
      "metadata {\n",
      "  key: \"service\"\n",
      "  value: \"aiplatform.googleapis.com\"\n",
      "}\n",
      ", links {\n",
      "  description: \"Request a higher quota limit.\"\n",
      "  url: \"https://cloud.google.com/docs/quota#requesting_higher_quota\"\n",
      "}\n",
      "]\n"
     ]
    },
    {
     "name": "stderr",
     "output_type": "stream",
     "text": [
      " 41%|████▏     | 414/1000 [2:33:00<3:37:26, 22.26s/it]"
     ]
    },
    {
     "name": "stdout",
     "output_type": "stream",
     "text": [
      "Error happened at iteration i: 413\n",
      "429 Quota exceeded for quota metric 'requests to internal prediction API' and limit 'requests to internal prediction API per minute per region' of service 'aiplatform.googleapis.com' for consumer 'project_number:1013587719654'. [reason: \"RATE_LIMIT_EXCEEDED\"\n",
      "domain: \"googleapis.com\"\n",
      "metadata {\n",
      "  key: \"consumer\"\n",
      "  value: \"projects/1013587719654\"\n",
      "}\n",
      "metadata {\n",
      "  key: \"quota_limit\"\n",
      "  value: \"InternalPredictionRequestsPerMinutePerProjectPerRegion\"\n",
      "}\n",
      "metadata {\n",
      "  key: \"quota_limit_value\"\n",
      "  value: \"120000\"\n",
      "}\n",
      "metadata {\n",
      "  key: \"quota_location\"\n",
      "  value: \"us-central1\"\n",
      "}\n",
      "metadata {\n",
      "  key: \"quota_metric\"\n",
      "  value: \"aiplatform.googleapis.com/internal_prediction_requests\"\n",
      "}\n",
      "metadata {\n",
      "  key: \"service\"\n",
      "  value: \"aiplatform.googleapis.com\"\n",
      "}\n",
      ", links {\n",
      "  description: \"Request a higher quota limit.\"\n",
      "  url: \"https://cloud.google.com/docs/quota#requesting_higher_quota\"\n",
      "}\n",
      "]\n"
     ]
    },
    {
     "name": "stderr",
     "output_type": "stream",
     "text": [
      " 45%|████▌     | 452/1000 [2:46:29<3:16:08, 21.47s/it]"
     ]
    },
    {
     "name": "stdout",
     "output_type": "stream",
     "text": [
      "Error happened at iteration i: 451\n",
      "429 Quota exceeded for quota metric 'requests to internal prediction API' and limit 'requests to internal prediction API per minute per region' of service 'aiplatform.googleapis.com' for consumer 'project_number:1013587719654'. [reason: \"RATE_LIMIT_EXCEEDED\"\n",
      "domain: \"googleapis.com\"\n",
      "metadata {\n",
      "  key: \"consumer\"\n",
      "  value: \"projects/1013587719654\"\n",
      "}\n",
      "metadata {\n",
      "  key: \"quota_limit\"\n",
      "  value: \"InternalPredictionRequestsPerMinutePerProjectPerRegion\"\n",
      "}\n",
      "metadata {\n",
      "  key: \"quota_limit_value\"\n",
      "  value: \"120000\"\n",
      "}\n",
      "metadata {\n",
      "  key: \"quota_location\"\n",
      "  value: \"us-central1\"\n",
      "}\n",
      "metadata {\n",
      "  key: \"quota_metric\"\n",
      "  value: \"aiplatform.googleapis.com/internal_prediction_requests\"\n",
      "}\n",
      "metadata {\n",
      "  key: \"service\"\n",
      "  value: \"aiplatform.googleapis.com\"\n",
      "}\n",
      ", links {\n",
      "  description: \"Request a higher quota limit.\"\n",
      "  url: \"https://cloud.google.com/docs/quota#requesting_higher_quota\"\n",
      "}\n",
      "]\n"
     ]
    },
    {
     "name": "stderr",
     "output_type": "stream",
     "text": [
      " 49%|████▊     | 486/1000 [2:59:01<2:57:16, 20.69s/it]"
     ]
    },
    {
     "name": "stdout",
     "output_type": "stream",
     "text": [
      "Error happened at iteration i: 485\n",
      "429 Quota exceeded for quota metric 'requests to internal prediction API' and limit 'requests to internal prediction API per minute per region' of service 'aiplatform.googleapis.com' for consumer 'project_number:1013587719654'. [reason: \"RATE_LIMIT_EXCEEDED\"\n",
      "domain: \"googleapis.com\"\n",
      "metadata {\n",
      "  key: \"consumer\"\n",
      "  value: \"projects/1013587719654\"\n",
      "}\n",
      "metadata {\n",
      "  key: \"quota_limit\"\n",
      "  value: \"InternalPredictionRequestsPerMinutePerProjectPerRegion\"\n",
      "}\n",
      "metadata {\n",
      "  key: \"quota_limit_value\"\n",
      "  value: \"120000\"\n",
      "}\n",
      "metadata {\n",
      "  key: \"quota_location\"\n",
      "  value: \"us-central1\"\n",
      "}\n",
      "metadata {\n",
      "  key: \"quota_metric\"\n",
      "  value: \"aiplatform.googleapis.com/internal_prediction_requests\"\n",
      "}\n",
      "metadata {\n",
      "  key: \"service\"\n",
      "  value: \"aiplatform.googleapis.com\"\n",
      "}\n",
      ", links {\n",
      "  description: \"Request a higher quota limit.\"\n",
      "  url: \"https://cloud.google.com/docs/quota#requesting_higher_quota\"\n",
      "}\n",
      "]\n"
     ]
    },
    {
     "name": "stderr",
     "output_type": "stream",
     "text": [
      " 50%|█████     | 500/1000 [3:04:24<3:10:25, 22.85s/it]"
     ]
    },
    {
     "name": "stdout",
     "output_type": "stream",
     "text": [
      "Error happened at iteration i: 499\n",
      "list index out of range\n"
     ]
    },
    {
     "name": "stderr",
     "output_type": "stream",
     "text": [
      " 63%|██████▎   | 628/1000 [3:51:05<2:20:32, 22.67s/it]"
     ]
    },
    {
     "name": "stdout",
     "output_type": "stream",
     "text": [
      "Error happened at iteration i: 627\n",
      "list index out of range\n"
     ]
    },
    {
     "name": "stderr",
     "output_type": "stream",
     "text": [
      "100%|██████████| 1000/1000 [6:11:17<00:00, 22.28s/it] \n"
     ]
    }
   ],
   "source": [
    "repeat = []\n",
    "for i in tqdm(range(0,1000)):\n",
    "    try:\n",
    "        response = multimodal_model.generate_content(\n",
    "            [prompt_no_example + example + patient_data + result_df.iloc[i]['GPT_input']], generation_config=config\n",
    "        )\n",
    "        hadm_id = result_df.index[i]\n",
    "        result_df.loc[hadm_id, 'GPT-Diagnoses'] = response.candidates[0].content.parts[0].text\n",
    "    except Exception as e: \n",
    "        print('Error happened at iteration i: ' + str(i))\n",
    "        repeat.append(i)\n",
    "        print(e)"
   ]
  },
  {
   "cell_type": "code",
   "execution_count": 13,
   "id": "28c4fcce-7d95-4ae5-9d13-11e24b2a9f96",
   "metadata": {},
   "outputs": [
    {
     "data": {
      "text/plain": [
       "[170, 193, 280, 370, 380, 383, 391, 413, 451, 485, 499, 627]"
      ]
     },
     "execution_count": 13,
     "metadata": {},
     "output_type": "execute_result"
    }
   ],
   "source": [
    "repeat"
   ]
  },
  {
   "cell_type": "code",
   "execution_count": 14,
   "id": "73749654-a773-4fff-a0d9-71b5505b50d6",
   "metadata": {},
   "outputs": [
    {
     "name": "stderr",
     "output_type": "stream",
     "text": [
      "100%|██████████| 12/12 [04:23<00:00, 21.96s/it]\n"
     ]
    }
   ],
   "source": [
    "for i in tqdm(repeat):\n",
    "    try:\n",
    "        response = multimodal_model.generate_content(\n",
    "            [prompt_no_example + example + patient_data + result_df.iloc[i]['GPT_input']], generation_config=config\n",
    "        )\n",
    "        hadm_id = result_df.index[i]\n",
    "        result_df.loc[hadm_id, 'GPT-Diagnoses'] = response.candidates[0].content.parts[0].text\n",
    "    except Exception as e: \n",
    "        print('Error happened at iteration i: ' + str(i))\n",
    "        print(e)"
   ]
  },
  {
   "cell_type": "code",
   "execution_count": 12,
   "id": "60f96454-3b7f-4c36-9db1-f3b5ef006696",
   "metadata": {},
   "outputs": [],
   "source": [
    "result_df.to_csv('GeminiPRO15_result.csv')"
   ]
  },
  {
   "cell_type": "code",
   "execution_count": null,
   "id": "dde711b1-a1f6-4794-845d-6ebbdb7f300f",
   "metadata": {},
   "outputs": [],
   "source": []
  }
 ],
 "metadata": {
  "environment": {
   "kernel": "python3",
   "name": "common-cpu.m109",
   "type": "gcloud",
   "uri": "gcr.io/deeplearning-platform-release/base-cpu:m109"
  },
  "kernelspec": {
   "display_name": "Python 3 (ipykernel)",
   "language": "python",
   "name": "python3"
  },
  "language_info": {
   "codemirror_mode": {
    "name": "ipython",
    "version": 3
   },
   "file_extension": ".py",
   "mimetype": "text/x-python",
   "name": "python",
   "nbconvert_exporter": "python",
   "pygments_lexer": "ipython3",
   "version": "3.10.12"
  }
 },
 "nbformat": 4,
 "nbformat_minor": 5
}
